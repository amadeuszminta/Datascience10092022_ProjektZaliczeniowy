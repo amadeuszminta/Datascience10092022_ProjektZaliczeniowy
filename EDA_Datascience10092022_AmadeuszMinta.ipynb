{
 "cells": [
  {
   "cell_type": "markdown",
   "id": "ac2346c8",
   "metadata": {},
   "source": [
    "# Description of project\n",
    "\n",
    "Customer behavior and booking possibilities have been radically changed by online hotel reservation channels. Cancellations or no-shows cause a significant number of hotel reservations to be canceled. Cancellations can be caused by a variety of factors, such as scheduling conflicts, changes in plans, etc. In many cases, this is made easier by the possibility of doing so free or at a low cost, which is beneficial for hotel guests but less desirable and possibly revenue-diminishing for hotels.\n",
    "\n",
    "**The purpose of case study is:**\n",
    "\n",
    "As a Data Scientist, your job is to build a Machine Learning model to help the Hotel Owners better understand if the customer is going to honor the reservation or cancel it ?\n",
    "\n",
    "**Dataset Description:**\n",
    "The file contains the different attributes of customers' reservation details. The detailed data dictionary is given below\n",
    "* `id`: unique identifier of each booking\n",
    "* `no_of_adults`: Number of adults\n",
    "* `no_of_children`: Number of Children\n",
    "* `no_of_weekend_nights`: Number of weekend nights (Saturday or Sunday) the guest stayed or booked to stay at the hotel\n",
    "* `no_of_week_nights`: Number of week nights (Monday to Friday) the guest stayed or booked to stay at the hotel\n",
    "* `type_of_meal_plan`: Type of meal plan booked by the customer:\n",
    "* `required_car_parking_space`: Does the customer require a car parking space? (0 - No, 1- Yes)\n",
    "* `room_type_reserved`: Type of room reserved by the customer. The values are ciphered (encoded) by INN Hotels.\n",
    "* `lead_time`: Number of days between the date of booking and the arrival date\n",
    "* `arrival_year`: Year of arrival date\n",
    "* `arrival_month`: Month of arrival date\n",
    "* `arrival_date`: Date of the month\n",
    "* `market_segment_type`: Market segment designation.\n",
    "* `repeated_guest`: Is the customer a repeated guest? (0 - No, 1- Yes)\n",
    "* `no_of_previous_cancellations`: Number of previous bookings that were canceled by the customer prior to the current booking\n",
    "* `no_of_previous_bookings_not_canceled`: Number of previous bookings not canceled by the customer prior to the current booking\n",
    "* `avg_price_per_room`: Average price per day of the reservation; prices of the rooms are dynamic. (in euros)\n",
    "* `no_of_special_requests`: Total number of special requests made by the customer (e.g. high floor, view from the room, etc)\n",
    "* `booking_status`: Flag indicating if the booking was canceled or not.\n",
    "\n",
    "The dataset was downloaded from:\n",
    "[Kaggle - Playground Series - Season 3, Episode 7](https://www.kaggle.com/competitions/playground-series-s3e7/overview)"
   ]
  },
  {
   "cell_type": "markdown",
   "id": "a760fd29",
   "metadata": {},
   "source": [
    "# Exploratory data analysis"
   ]
  },
  {
   "cell_type": "markdown",
   "id": "0823da96",
   "metadata": {},
   "source": [
    "## Tools and dataset"
   ]
  },
  {
   "cell_type": "markdown",
   "id": "b06b4953",
   "metadata": {},
   "source": [
    "### Libraries"
   ]
  },
  {
   "cell_type": "code",
   "execution_count": 250,
   "id": "f4185eeb",
   "metadata": {},
   "outputs": [],
   "source": [
    "# Importing needed libraries\n",
    "\n",
    "# data manipulation\n",
    "import pandas as pd\n",
    "import numpy as np\n",
    "\n",
    "# data visualization\n",
    "import seaborn as sns\n",
    "import matplotlib.pyplot as plt\n"
   ]
  },
  {
   "cell_type": "markdown",
   "id": "f68ad2bb",
   "metadata": {},
   "source": [
    "### Downloading datasets"
   ]
  },
  {
   "cell_type": "code",
   "execution_count": 251,
   "id": "0adcd23c",
   "metadata": {},
   "outputs": [],
   "source": [
    "# Path to dataset\n",
    "PATH_DATASET_train = r'PG_Dataset\\train.csv'\n",
    "PATH_DATASET_test = r'PG_Dataset\\test.csv'\n",
    "\n",
    "# Download dataset\n",
    "df_raw = pd.read_csv(PATH_DATASET_train, sep=',')\n",
    "df_test = pd.read_csv(PATH_DATASET_test, sep=',')"
   ]
  },
  {
   "cell_type": "code",
   "execution_count": 252,
   "id": "bfe464b2",
   "metadata": {},
   "outputs": [],
   "source": [
    "FEATURES_TO_DROP = [] # The container for names of features that will drop out from the dataset\n",
    "CATEGORICAL_FEATURES = [] # The container for names of features that will be treated as categorical ones during analysis "
   ]
  },
  {
   "cell_type": "markdown",
   "id": "156c64b9",
   "metadata": {},
   "source": [
    "### Functions"
   ]
  },
  {
   "cell_type": "code",
   "execution_count": 253,
   "id": "a65f74d8",
   "metadata": {},
   "outputs": [],
   "source": [
    "def First_looking_on_feature(nameOfColumn):\n",
    "    print(f'''Unique data:\\n\n",
    "    {nameOfColumn.unique()}''')\n",
    "    print('-'*100)\n",
    "    \n",
    "    print('Histogram')\n",
    "    plt.hist(nameOfColumn)\n",
    "    plt.show()\n",
    "    print('-'*100)\n",
    "    \n",
    "    print('Value counts\\n')\n",
    "    print(f'{nameOfColumn.value_counts()}')\n",
    "    print('-'*100)\n",
    "    \n",
    "def Sns_count_plot(nameOfColumn):\n",
    "    plt.figure(figsize=(10, 5))\n",
    "    sns.countplot(x=nameOfColumn, hue='booking_status', data=df_raw)\n",
    "    plt.legend(['cancelled', 'honored'], loc='upper right')\n",
    "    plt.show()"
   ]
  },
  {
   "cell_type": "markdown",
   "id": "413f9f3e",
   "metadata": {},
   "source": [
    "## Data preparation"
   ]
  },
  {
   "cell_type": "code",
   "execution_count": 254,
   "id": "a7237d05",
   "metadata": {
    "scrolled": false
   },
   "outputs": [
    {
     "data": {
      "text/html": [
       "<div>\n",
       "<style scoped>\n",
       "    .dataframe tbody tr th:only-of-type {\n",
       "        vertical-align: middle;\n",
       "    }\n",
       "\n",
       "    .dataframe tbody tr th {\n",
       "        vertical-align: top;\n",
       "    }\n",
       "\n",
       "    .dataframe thead th {\n",
       "        text-align: right;\n",
       "    }\n",
       "</style>\n",
       "<table border=\"1\" class=\"dataframe\">\n",
       "  <thead>\n",
       "    <tr style=\"text-align: right;\">\n",
       "      <th></th>\n",
       "      <th>0</th>\n",
       "      <th>1</th>\n",
       "      <th>2</th>\n",
       "      <th>3</th>\n",
       "      <th>4</th>\n",
       "    </tr>\n",
       "  </thead>\n",
       "  <tbody>\n",
       "    <tr>\n",
       "      <th>id</th>\n",
       "      <td>0.0</td>\n",
       "      <td>1.00</td>\n",
       "      <td>2.0</td>\n",
       "      <td>3.0</td>\n",
       "      <td>4.0</td>\n",
       "    </tr>\n",
       "    <tr>\n",
       "      <th>no_of_adults</th>\n",
       "      <td>2.0</td>\n",
       "      <td>2.00</td>\n",
       "      <td>2.0</td>\n",
       "      <td>1.0</td>\n",
       "      <td>2.0</td>\n",
       "    </tr>\n",
       "    <tr>\n",
       "      <th>no_of_children</th>\n",
       "      <td>0.0</td>\n",
       "      <td>0.00</td>\n",
       "      <td>0.0</td>\n",
       "      <td>0.0</td>\n",
       "      <td>0.0</td>\n",
       "    </tr>\n",
       "    <tr>\n",
       "      <th>no_of_weekend_nights</th>\n",
       "      <td>0.0</td>\n",
       "      <td>1.00</td>\n",
       "      <td>0.0</td>\n",
       "      <td>0.0</td>\n",
       "      <td>1.0</td>\n",
       "    </tr>\n",
       "    <tr>\n",
       "      <th>no_of_week_nights</th>\n",
       "      <td>2.0</td>\n",
       "      <td>2.00</td>\n",
       "      <td>1.0</td>\n",
       "      <td>2.0</td>\n",
       "      <td>0.0</td>\n",
       "    </tr>\n",
       "    <tr>\n",
       "      <th>type_of_meal_plan</th>\n",
       "      <td>1.0</td>\n",
       "      <td>0.00</td>\n",
       "      <td>0.0</td>\n",
       "      <td>1.0</td>\n",
       "      <td>0.0</td>\n",
       "    </tr>\n",
       "    <tr>\n",
       "      <th>required_car_parking_space</th>\n",
       "      <td>0.0</td>\n",
       "      <td>0.00</td>\n",
       "      <td>0.0</td>\n",
       "      <td>0.0</td>\n",
       "      <td>0.0</td>\n",
       "    </tr>\n",
       "    <tr>\n",
       "      <th>room_type_reserved</th>\n",
       "      <td>0.0</td>\n",
       "      <td>0.00</td>\n",
       "      <td>0.0</td>\n",
       "      <td>0.0</td>\n",
       "      <td>0.0</td>\n",
       "    </tr>\n",
       "    <tr>\n",
       "      <th>lead_time</th>\n",
       "      <td>9.0</td>\n",
       "      <td>117.00</td>\n",
       "      <td>315.0</td>\n",
       "      <td>32.0</td>\n",
       "      <td>258.0</td>\n",
       "    </tr>\n",
       "    <tr>\n",
       "      <th>arrival_year</th>\n",
       "      <td>2018.0</td>\n",
       "      <td>2018.00</td>\n",
       "      <td>2018.0</td>\n",
       "      <td>2018.0</td>\n",
       "      <td>2018.0</td>\n",
       "    </tr>\n",
       "    <tr>\n",
       "      <th>arrival_month</th>\n",
       "      <td>1.0</td>\n",
       "      <td>7.00</td>\n",
       "      <td>12.0</td>\n",
       "      <td>12.0</td>\n",
       "      <td>10.0</td>\n",
       "    </tr>\n",
       "    <tr>\n",
       "      <th>arrival_date</th>\n",
       "      <td>14.0</td>\n",
       "      <td>29.00</td>\n",
       "      <td>2.0</td>\n",
       "      <td>1.0</td>\n",
       "      <td>16.0</td>\n",
       "    </tr>\n",
       "    <tr>\n",
       "      <th>market_segment_type</th>\n",
       "      <td>1.0</td>\n",
       "      <td>0.00</td>\n",
       "      <td>0.0</td>\n",
       "      <td>1.0</td>\n",
       "      <td>0.0</td>\n",
       "    </tr>\n",
       "    <tr>\n",
       "      <th>repeated_guest</th>\n",
       "      <td>1.0</td>\n",
       "      <td>0.00</td>\n",
       "      <td>0.0</td>\n",
       "      <td>0.0</td>\n",
       "      <td>0.0</td>\n",
       "    </tr>\n",
       "    <tr>\n",
       "      <th>no_of_previous_cancellations</th>\n",
       "      <td>11.0</td>\n",
       "      <td>0.00</td>\n",
       "      <td>0.0</td>\n",
       "      <td>0.0</td>\n",
       "      <td>0.0</td>\n",
       "    </tr>\n",
       "    <tr>\n",
       "      <th>no_of_previous_bookings_not_canceled</th>\n",
       "      <td>0.0</td>\n",
       "      <td>0.00</td>\n",
       "      <td>0.0</td>\n",
       "      <td>0.0</td>\n",
       "      <td>0.0</td>\n",
       "    </tr>\n",
       "    <tr>\n",
       "      <th>avg_price_per_room</th>\n",
       "      <td>67.5</td>\n",
       "      <td>72.25</td>\n",
       "      <td>52.0</td>\n",
       "      <td>56.0</td>\n",
       "      <td>100.0</td>\n",
       "    </tr>\n",
       "    <tr>\n",
       "      <th>no_of_special_requests</th>\n",
       "      <td>0.0</td>\n",
       "      <td>0.00</td>\n",
       "      <td>0.0</td>\n",
       "      <td>0.0</td>\n",
       "      <td>0.0</td>\n",
       "    </tr>\n",
       "    <tr>\n",
       "      <th>booking_status</th>\n",
       "      <td>0.0</td>\n",
       "      <td>0.00</td>\n",
       "      <td>0.0</td>\n",
       "      <td>0.0</td>\n",
       "      <td>1.0</td>\n",
       "    </tr>\n",
       "  </tbody>\n",
       "</table>\n",
       "</div>"
      ],
      "text/plain": [
       "                                           0        1       2       3       4\n",
       "id                                       0.0     1.00     2.0     3.0     4.0\n",
       "no_of_adults                             2.0     2.00     2.0     1.0     2.0\n",
       "no_of_children                           0.0     0.00     0.0     0.0     0.0\n",
       "no_of_weekend_nights                     0.0     1.00     0.0     0.0     1.0\n",
       "no_of_week_nights                        2.0     2.00     1.0     2.0     0.0\n",
       "type_of_meal_plan                        1.0     0.00     0.0     1.0     0.0\n",
       "required_car_parking_space               0.0     0.00     0.0     0.0     0.0\n",
       "room_type_reserved                       0.0     0.00     0.0     0.0     0.0\n",
       "lead_time                                9.0   117.00   315.0    32.0   258.0\n",
       "arrival_year                          2018.0  2018.00  2018.0  2018.0  2018.0\n",
       "arrival_month                            1.0     7.00    12.0    12.0    10.0\n",
       "arrival_date                            14.0    29.00     2.0     1.0    16.0\n",
       "market_segment_type                      1.0     0.00     0.0     1.0     0.0\n",
       "repeated_guest                           1.0     0.00     0.0     0.0     0.0\n",
       "no_of_previous_cancellations            11.0     0.00     0.0     0.0     0.0\n",
       "no_of_previous_bookings_not_canceled     0.0     0.00     0.0     0.0     0.0\n",
       "avg_price_per_room                      67.5    72.25    52.0    56.0   100.0\n",
       "no_of_special_requests                   0.0     0.00     0.0     0.0     0.0\n",
       "booking_status                           0.0     0.00     0.0     0.0     1.0"
      ]
     },
     "execution_count": 254,
     "metadata": {},
     "output_type": "execute_result"
    }
   ],
   "source": [
    "df_raw.head().T"
   ]
  },
  {
   "cell_type": "code",
   "execution_count": 255,
   "id": "9c6449be",
   "metadata": {},
   "outputs": [
    {
     "data": {
      "text/plain": [
       "(42100, 19)"
      ]
     },
     "execution_count": 255,
     "metadata": {},
     "output_type": "execute_result"
    }
   ],
   "source": [
    "df_raw.shape # There are 42100 of rows and 19 of columns"
   ]
  },
  {
   "cell_type": "code",
   "execution_count": 256,
   "id": "87746d02",
   "metadata": {},
   "outputs": [
    {
     "data": {
      "text/plain": [
       "Index(['id', 'no_of_adults', 'no_of_children', 'no_of_weekend_nights',\n",
       "       'no_of_week_nights', 'type_of_meal_plan', 'required_car_parking_space',\n",
       "       'room_type_reserved', 'lead_time', 'arrival_year', 'arrival_month',\n",
       "       'arrival_date', 'market_segment_type', 'repeated_guest',\n",
       "       'no_of_previous_cancellations', 'no_of_previous_bookings_not_canceled',\n",
       "       'avg_price_per_room', 'no_of_special_requests', 'booking_status'],\n",
       "      dtype='object')"
      ]
     },
     "execution_count": 256,
     "metadata": {},
     "output_type": "execute_result"
    }
   ],
   "source": [
    "df_raw.columns"
   ]
  },
  {
   "cell_type": "code",
   "execution_count": 257,
   "id": "187f701b",
   "metadata": {
    "scrolled": true
   },
   "outputs": [
    {
     "name": "stdout",
     "output_type": "stream",
     "text": [
      "<class 'pandas.core.frame.DataFrame'>\n",
      "RangeIndex: 42100 entries, 0 to 42099\n",
      "Data columns (total 19 columns):\n",
      " #   Column                                Non-Null Count  Dtype  \n",
      "---  ------                                --------------  -----  \n",
      " 0   id                                    42100 non-null  int64  \n",
      " 1   no_of_adults                          42100 non-null  int64  \n",
      " 2   no_of_children                        42100 non-null  int64  \n",
      " 3   no_of_weekend_nights                  42100 non-null  int64  \n",
      " 4   no_of_week_nights                     42100 non-null  int64  \n",
      " 5   type_of_meal_plan                     42100 non-null  int64  \n",
      " 6   required_car_parking_space            42100 non-null  int64  \n",
      " 7   room_type_reserved                    42100 non-null  int64  \n",
      " 8   lead_time                             42100 non-null  int64  \n",
      " 9   arrival_year                          42100 non-null  int64  \n",
      " 10  arrival_month                         42100 non-null  int64  \n",
      " 11  arrival_date                          42100 non-null  int64  \n",
      " 12  market_segment_type                   42100 non-null  int64  \n",
      " 13  repeated_guest                        42100 non-null  int64  \n",
      " 14  no_of_previous_cancellations          42100 non-null  int64  \n",
      " 15  no_of_previous_bookings_not_canceled  42100 non-null  int64  \n",
      " 16  avg_price_per_room                    42100 non-null  float64\n",
      " 17  no_of_special_requests                42100 non-null  int64  \n",
      " 18  booking_status                        42100 non-null  int64  \n",
      "dtypes: float64(1), int64(18)\n",
      "memory usage: 6.1 MB\n"
     ]
    }
   ],
   "source": [
    "df_raw.info()\n",
    "# There are only the numerical datas "
   ]
  },
  {
   "cell_type": "code",
   "execution_count": 258,
   "id": "7c9f097c",
   "metadata": {
    "scrolled": false
   },
   "outputs": [
    {
     "data": {
      "text/html": [
       "<div>\n",
       "<style scoped>\n",
       "    .dataframe tbody tr th:only-of-type {\n",
       "        vertical-align: middle;\n",
       "    }\n",
       "\n",
       "    .dataframe tbody tr th {\n",
       "        vertical-align: top;\n",
       "    }\n",
       "\n",
       "    .dataframe thead th {\n",
       "        text-align: right;\n",
       "    }\n",
       "</style>\n",
       "<table border=\"1\" class=\"dataframe\">\n",
       "  <thead>\n",
       "    <tr style=\"text-align: right;\">\n",
       "      <th></th>\n",
       "      <th>count</th>\n",
       "      <th>mean</th>\n",
       "      <th>std</th>\n",
       "      <th>min</th>\n",
       "      <th>25%</th>\n",
       "      <th>50%</th>\n",
       "      <th>75%</th>\n",
       "      <th>max</th>\n",
       "    </tr>\n",
       "  </thead>\n",
       "  <tbody>\n",
       "    <tr>\n",
       "      <th>id</th>\n",
       "      <td>42100.0</td>\n",
       "      <td>21049.500000</td>\n",
       "      <td>12153.367503</td>\n",
       "      <td>0.0</td>\n",
       "      <td>10524.75</td>\n",
       "      <td>21049.50</td>\n",
       "      <td>31574.25</td>\n",
       "      <td>42099.0</td>\n",
       "    </tr>\n",
       "    <tr>\n",
       "      <th>no_of_adults</th>\n",
       "      <td>42100.0</td>\n",
       "      <td>1.920713</td>\n",
       "      <td>0.524950</td>\n",
       "      <td>0.0</td>\n",
       "      <td>2.00</td>\n",
       "      <td>2.00</td>\n",
       "      <td>2.00</td>\n",
       "      <td>4.0</td>\n",
       "    </tr>\n",
       "    <tr>\n",
       "      <th>no_of_children</th>\n",
       "      <td>42100.0</td>\n",
       "      <td>0.141093</td>\n",
       "      <td>0.450128</td>\n",
       "      <td>0.0</td>\n",
       "      <td>0.00</td>\n",
       "      <td>0.00</td>\n",
       "      <td>0.00</td>\n",
       "      <td>9.0</td>\n",
       "    </tr>\n",
       "    <tr>\n",
       "      <th>no_of_weekend_nights</th>\n",
       "      <td>42100.0</td>\n",
       "      <td>0.884632</td>\n",
       "      <td>0.885693</td>\n",
       "      <td>0.0</td>\n",
       "      <td>0.00</td>\n",
       "      <td>1.00</td>\n",
       "      <td>2.00</td>\n",
       "      <td>7.0</td>\n",
       "    </tr>\n",
       "    <tr>\n",
       "      <th>no_of_week_nights</th>\n",
       "      <td>42100.0</td>\n",
       "      <td>2.398005</td>\n",
       "      <td>1.427330</td>\n",
       "      <td>0.0</td>\n",
       "      <td>1.00</td>\n",
       "      <td>2.00</td>\n",
       "      <td>3.00</td>\n",
       "      <td>17.0</td>\n",
       "    </tr>\n",
       "    <tr>\n",
       "      <th>type_of_meal_plan</th>\n",
       "      <td>42100.0</td>\n",
       "      <td>0.239192</td>\n",
       "      <td>0.587674</td>\n",
       "      <td>0.0</td>\n",
       "      <td>0.00</td>\n",
       "      <td>0.00</td>\n",
       "      <td>0.00</td>\n",
       "      <td>3.0</td>\n",
       "    </tr>\n",
       "    <tr>\n",
       "      <th>required_car_parking_space</th>\n",
       "      <td>42100.0</td>\n",
       "      <td>0.025249</td>\n",
       "      <td>0.156884</td>\n",
       "      <td>0.0</td>\n",
       "      <td>0.00</td>\n",
       "      <td>0.00</td>\n",
       "      <td>0.00</td>\n",
       "      <td>1.0</td>\n",
       "    </tr>\n",
       "    <tr>\n",
       "      <th>room_type_reserved</th>\n",
       "      <td>42100.0</td>\n",
       "      <td>0.428931</td>\n",
       "      <td>0.832605</td>\n",
       "      <td>0.0</td>\n",
       "      <td>0.00</td>\n",
       "      <td>0.00</td>\n",
       "      <td>1.00</td>\n",
       "      <td>6.0</td>\n",
       "    </tr>\n",
       "    <tr>\n",
       "      <th>lead_time</th>\n",
       "      <td>42100.0</td>\n",
       "      <td>103.888029</td>\n",
       "      <td>81.069343</td>\n",
       "      <td>0.0</td>\n",
       "      <td>37.00</td>\n",
       "      <td>93.00</td>\n",
       "      <td>155.00</td>\n",
       "      <td>443.0</td>\n",
       "    </tr>\n",
       "    <tr>\n",
       "      <th>arrival_year</th>\n",
       "      <td>42100.0</td>\n",
       "      <td>2017.856295</td>\n",
       "      <td>0.350795</td>\n",
       "      <td>2017.0</td>\n",
       "      <td>2018.00</td>\n",
       "      <td>2018.00</td>\n",
       "      <td>2018.00</td>\n",
       "      <td>2018.0</td>\n",
       "    </tr>\n",
       "    <tr>\n",
       "      <th>arrival_month</th>\n",
       "      <td>42100.0</td>\n",
       "      <td>7.593539</td>\n",
       "      <td>2.829395</td>\n",
       "      <td>1.0</td>\n",
       "      <td>6.00</td>\n",
       "      <td>8.00</td>\n",
       "      <td>10.00</td>\n",
       "      <td>12.0</td>\n",
       "    </tr>\n",
       "    <tr>\n",
       "      <th>arrival_date</th>\n",
       "      <td>42100.0</td>\n",
       "      <td>15.902945</td>\n",
       "      <td>8.888582</td>\n",
       "      <td>1.0</td>\n",
       "      <td>8.00</td>\n",
       "      <td>16.00</td>\n",
       "      <td>24.00</td>\n",
       "      <td>31.0</td>\n",
       "    </tr>\n",
       "    <tr>\n",
       "      <th>market_segment_type</th>\n",
       "      <td>42100.0</td>\n",
       "      <td>0.728504</td>\n",
       "      <td>0.633529</td>\n",
       "      <td>0.0</td>\n",
       "      <td>0.00</td>\n",
       "      <td>1.00</td>\n",
       "      <td>1.00</td>\n",
       "      <td>4.0</td>\n",
       "    </tr>\n",
       "    <tr>\n",
       "      <th>repeated_guest</th>\n",
       "      <td>42100.0</td>\n",
       "      <td>0.029192</td>\n",
       "      <td>0.168347</td>\n",
       "      <td>0.0</td>\n",
       "      <td>0.00</td>\n",
       "      <td>0.00</td>\n",
       "      <td>0.00</td>\n",
       "      <td>1.0</td>\n",
       "    </tr>\n",
       "    <tr>\n",
       "      <th>no_of_previous_cancellations</th>\n",
       "      <td>42100.0</td>\n",
       "      <td>0.019715</td>\n",
       "      <td>0.325837</td>\n",
       "      <td>0.0</td>\n",
       "      <td>0.00</td>\n",
       "      <td>0.00</td>\n",
       "      <td>0.00</td>\n",
       "      <td>13.0</td>\n",
       "    </tr>\n",
       "    <tr>\n",
       "      <th>no_of_previous_bookings_not_canceled</th>\n",
       "      <td>42100.0</td>\n",
       "      <td>0.175772</td>\n",
       "      <td>1.732121</td>\n",
       "      <td>0.0</td>\n",
       "      <td>0.00</td>\n",
       "      <td>0.00</td>\n",
       "      <td>0.00</td>\n",
       "      <td>58.0</td>\n",
       "    </tr>\n",
       "    <tr>\n",
       "      <th>avg_price_per_room</th>\n",
       "      <td>42100.0</td>\n",
       "      <td>104.566377</td>\n",
       "      <td>37.139165</td>\n",
       "      <td>0.0</td>\n",
       "      <td>80.00</td>\n",
       "      <td>99.45</td>\n",
       "      <td>123.30</td>\n",
       "      <td>540.0</td>\n",
       "    </tr>\n",
       "    <tr>\n",
       "      <th>no_of_special_requests</th>\n",
       "      <td>42100.0</td>\n",
       "      <td>0.571734</td>\n",
       "      <td>0.775041</td>\n",
       "      <td>0.0</td>\n",
       "      <td>0.00</td>\n",
       "      <td>0.00</td>\n",
       "      <td>1.00</td>\n",
       "      <td>5.0</td>\n",
       "    </tr>\n",
       "    <tr>\n",
       "      <th>booking_status</th>\n",
       "      <td>42100.0</td>\n",
       "      <td>0.392019</td>\n",
       "      <td>0.488207</td>\n",
       "      <td>0.0</td>\n",
       "      <td>0.00</td>\n",
       "      <td>0.00</td>\n",
       "      <td>1.00</td>\n",
       "      <td>1.0</td>\n",
       "    </tr>\n",
       "  </tbody>\n",
       "</table>\n",
       "</div>"
      ],
      "text/plain": [
       "                                        count          mean           std  \\\n",
       "id                                    42100.0  21049.500000  12153.367503   \n",
       "no_of_adults                          42100.0      1.920713      0.524950   \n",
       "no_of_children                        42100.0      0.141093      0.450128   \n",
       "no_of_weekend_nights                  42100.0      0.884632      0.885693   \n",
       "no_of_week_nights                     42100.0      2.398005      1.427330   \n",
       "type_of_meal_plan                     42100.0      0.239192      0.587674   \n",
       "required_car_parking_space            42100.0      0.025249      0.156884   \n",
       "room_type_reserved                    42100.0      0.428931      0.832605   \n",
       "lead_time                             42100.0    103.888029     81.069343   \n",
       "arrival_year                          42100.0   2017.856295      0.350795   \n",
       "arrival_month                         42100.0      7.593539      2.829395   \n",
       "arrival_date                          42100.0     15.902945      8.888582   \n",
       "market_segment_type                   42100.0      0.728504      0.633529   \n",
       "repeated_guest                        42100.0      0.029192      0.168347   \n",
       "no_of_previous_cancellations          42100.0      0.019715      0.325837   \n",
       "no_of_previous_bookings_not_canceled  42100.0      0.175772      1.732121   \n",
       "avg_price_per_room                    42100.0    104.566377     37.139165   \n",
       "no_of_special_requests                42100.0      0.571734      0.775041   \n",
       "booking_status                        42100.0      0.392019      0.488207   \n",
       "\n",
       "                                         min       25%       50%       75%  \\\n",
       "id                                       0.0  10524.75  21049.50  31574.25   \n",
       "no_of_adults                             0.0      2.00      2.00      2.00   \n",
       "no_of_children                           0.0      0.00      0.00      0.00   \n",
       "no_of_weekend_nights                     0.0      0.00      1.00      2.00   \n",
       "no_of_week_nights                        0.0      1.00      2.00      3.00   \n",
       "type_of_meal_plan                        0.0      0.00      0.00      0.00   \n",
       "required_car_parking_space               0.0      0.00      0.00      0.00   \n",
       "room_type_reserved                       0.0      0.00      0.00      1.00   \n",
       "lead_time                                0.0     37.00     93.00    155.00   \n",
       "arrival_year                          2017.0   2018.00   2018.00   2018.00   \n",
       "arrival_month                            1.0      6.00      8.00     10.00   \n",
       "arrival_date                             1.0      8.00     16.00     24.00   \n",
       "market_segment_type                      0.0      0.00      1.00      1.00   \n",
       "repeated_guest                           0.0      0.00      0.00      0.00   \n",
       "no_of_previous_cancellations             0.0      0.00      0.00      0.00   \n",
       "no_of_previous_bookings_not_canceled     0.0      0.00      0.00      0.00   \n",
       "avg_price_per_room                       0.0     80.00     99.45    123.30   \n",
       "no_of_special_requests                   0.0      0.00      0.00      1.00   \n",
       "booking_status                           0.0      0.00      0.00      1.00   \n",
       "\n",
       "                                          max  \n",
       "id                                    42099.0  \n",
       "no_of_adults                              4.0  \n",
       "no_of_children                            9.0  \n",
       "no_of_weekend_nights                      7.0  \n",
       "no_of_week_nights                        17.0  \n",
       "type_of_meal_plan                         3.0  \n",
       "required_car_parking_space                1.0  \n",
       "room_type_reserved                        6.0  \n",
       "lead_time                               443.0  \n",
       "arrival_year                           2018.0  \n",
       "arrival_month                            12.0  \n",
       "arrival_date                             31.0  \n",
       "market_segment_type                       4.0  \n",
       "repeated_guest                            1.0  \n",
       "no_of_previous_cancellations             13.0  \n",
       "no_of_previous_bookings_not_canceled     58.0  \n",
       "avg_price_per_room                      540.0  \n",
       "no_of_special_requests                    5.0  \n",
       "booking_status                            1.0  "
      ]
     },
     "execution_count": 258,
     "metadata": {},
     "output_type": "execute_result"
    }
   ],
   "source": [
    "df_raw.describe().T"
   ]
  },
  {
   "cell_type": "code",
   "execution_count": 259,
   "id": "1af2b930",
   "metadata": {
    "scrolled": true
   },
   "outputs": [
    {
     "data": {
      "text/plain": [
       "id                                      0\n",
       "no_of_adults                            0\n",
       "no_of_children                          0\n",
       "no_of_weekend_nights                    0\n",
       "no_of_week_nights                       0\n",
       "type_of_meal_plan                       0\n",
       "required_car_parking_space              0\n",
       "room_type_reserved                      0\n",
       "lead_time                               0\n",
       "arrival_year                            0\n",
       "arrival_month                           0\n",
       "arrival_date                            0\n",
       "market_segment_type                     0\n",
       "repeated_guest                          0\n",
       "no_of_previous_cancellations            0\n",
       "no_of_previous_bookings_not_canceled    0\n",
       "avg_price_per_room                      0\n",
       "no_of_special_requests                  0\n",
       "booking_status                          0\n",
       "dtype: int64"
      ]
     },
     "execution_count": 259,
     "metadata": {},
     "output_type": "execute_result"
    }
   ],
   "source": [
    "df_raw.isna().sum() # Data are complete. Lack of NaN."
   ]
  },
  {
   "cell_type": "code",
   "execution_count": 260,
   "id": "d7885134",
   "metadata": {
    "scrolled": false
   },
   "outputs": [
    {
     "data": {
      "image/png": "[encoded data removed]",
      "text/plain": [
       "<Figure size 1440x1440 with 2 Axes>"
      ]
     },
     "metadata": {
      "needs_background": "light"
     },
     "output_type": "display_data"
    }
   ],
   "source": [
    "plt.figure(figsize=(20,20))\n",
    "sns.heatmap(df_raw.corr(), annot=True)\n",
    "plt.show()"
   ]
  },
  {
   "cell_type": "markdown",
   "id": "65c5a76d",
   "metadata": {},
   "source": [
    "A small correlation is noticed between `no_of_previous_bookings_not_canceled`, `repeated_guest`, and `no_of_previous_cancellations` - it is a chance to drop one of these features."
   ]
  },
  {
   "cell_type": "markdown",
   "id": "a3eece13",
   "metadata": {},
   "source": [
    "### Analysis of variables"
   ]
  },
  {
   "cell_type": "markdown",
   "id": "30c4a011",
   "metadata": {},
   "source": [
    "#### ID"
   ]
  },
  {
   "cell_type": "code",
   "execution_count": 261,
   "id": "8adf82f4",
   "metadata": {},
   "outputs": [
    {
     "data": {
      "text/plain": [
       "['id']"
      ]
     },
     "execution_count": 261,
     "metadata": {},
     "output_type": "execute_result"
    }
   ],
   "source": [
    "# 'Id' feature is useless\n",
    "FEATURES_TO_DROP.append('id')\n",
    "FEATURES_TO_DROP"
   ]
  },
  {
   "cell_type": "markdown",
   "id": "eb11d0a2",
   "metadata": {},
   "source": [
    "**Summary**\n",
    "\n",
    "`Id` is useless and insignificant"
   ]
  },
  {
   "cell_type": "markdown",
   "id": "bc86a74e",
   "metadata": {},
   "source": [
    "#### No of adults"
   ]
  },
  {
   "cell_type": "code",
   "execution_count": 262,
   "id": "51fbb828",
   "metadata": {
    "scrolled": false
   },
   "outputs": [
    {
     "name": "stdout",
     "output_type": "stream",
     "text": [
      "Unique data:\n",
      "\n",
      "    [2 1 0 3 4]\n",
      "----------------------------------------------------------------------------------------------------\n",
      "Histogram\n"
     ]
    },
    {
     "data": {
      "image/png": "[encoded data removed]",
      "text/plain": [
       "<Figure size 432x288 with 1 Axes>"
      ]
     },
     "metadata": {
      "needs_background": "light"
     },
     "output_type": "display_data"
    },
    {
     "name": "stdout",
     "output_type": "stream",
     "text": [
      "----------------------------------------------------------------------------------------------------\n",
      "Value counts\n",
      "\n",
      "2    30771\n",
      "1     7089\n",
      "3     4061\n",
      "0      167\n",
      "4       12\n",
      "Name: no_of_adults, dtype: int64\n",
      "----------------------------------------------------------------------------------------------------\n"
     ]
    }
   ],
   "source": [
    "First_looking_on_feature(df_raw['no_of_adults'])"
   ]
  },
  {
   "cell_type": "code",
   "execution_count": 263,
   "id": "b6c6a7e3",
   "metadata": {
    "scrolled": false
   },
   "outputs": [
    {
     "data": {
      "image/png": "[encoded data removed]",
      "text/plain": [
       "<Figure size 720x360 with 1 Axes>"
      ]
     },
     "metadata": {
      "needs_background": "light"
     },
     "output_type": "display_data"
    }
   ],
   "source": [
    "Sns_count_plot('no_of_adults')"
   ]
  },
  {
   "cell_type": "markdown",
   "id": "12f4aa94",
   "metadata": {},
   "source": [
    "0 adults are looking strange. It is possible that parents decided to book a separate room for children or it is a mistake.\n",
    "4 adults is a small group. \n",
    "\n",
    "0 will be adding to 2 group because it is more possible this group booked such the accomodation \n",
    "\n",
    "4 will be adding to 3 group. It is one group, i.e. 3 or more"
   ]
  },
  {
   "cell_type": "code",
   "execution_count": 264,
   "id": "6e4251dc",
   "metadata": {},
   "outputs": [
    {
     "data": {
      "text/plain": [
       "2    30938\n",
       "1     7089\n",
       "3     4073\n",
       "Name: no_of_adults, dtype: int64"
      ]
     },
     "execution_count": 264,
     "metadata": {},
     "output_type": "execute_result"
    }
   ],
   "source": [
    "df_raw['no_of_adults'] = df_raw.no_of_adults.apply(lambda source: 3 if source == 4 else (2 if source == 0 else source))\n",
    "df_raw['no_of_adults'].value_counts(dropna=False)"
   ]
  },
  {
   "cell_type": "code",
   "execution_count": 265,
   "id": "f40a9418",
   "metadata": {},
   "outputs": [
    {
     "data": {
      "text/plain": [
       "['no_of_adults']"
      ]
     },
     "execution_count": 265,
     "metadata": {},
     "output_type": "execute_result"
    }
   ],
   "source": [
    "CATEGORICAL_FEATURES.append('no_of_adults')\n",
    "CATEGORICAL_FEATURES"
   ]
  },
  {
   "cell_type": "markdown",
   "id": "2a58a877",
   "metadata": {},
   "source": [
    "**Summary**\n",
    "\n",
    "`No of adults` looks 'OK'\n",
    "\n",
    " "
   ]
  },
  {
   "cell_type": "markdown",
   "id": "724f8f47",
   "metadata": {},
   "source": [
    "#### No of children"
   ]
  },
  {
   "cell_type": "code",
   "execution_count": 266,
   "id": "d7b5b170",
   "metadata": {
    "scrolled": false
   },
   "outputs": [
    {
     "name": "stdout",
     "output_type": "stream",
     "text": [
      "Unique data:\n",
      "\n",
      "    [0 2 1 3 4 9]\n",
      "----------------------------------------------------------------------------------------------------\n",
      "Histogram\n"
     ]
    },
    {
     "data": {
      "image/png": "[encoded data removed]",
      "text/plain": [
       "<Figure size 432x288 with 1 Axes>"
      ]
     },
     "metadata": {
      "needs_background": "light"
     },
     "output_type": "display_data"
    },
    {
     "name": "stdout",
     "output_type": "stream",
     "text": [
      "----------------------------------------------------------------------------------------------------\n",
      "Value counts\n",
      "\n",
      "0    37786\n",
      "1     2729\n",
      "2     1561\n",
      "3       17\n",
      "4        5\n",
      "9        2\n",
      "Name: no_of_children, dtype: int64\n",
      "----------------------------------------------------------------------------------------------------\n"
     ]
    }
   ],
   "source": [
    "First_looking_on_feature(df_raw['no_of_children'])"
   ]
  },
  {
   "cell_type": "code",
   "execution_count": 267,
   "id": "266dba60",
   "metadata": {},
   "outputs": [
    {
     "data": {
      "text/plain": [
       "array([0, 2, 1, 3, 4, 9], dtype=int64)"
      ]
     },
     "execution_count": 267,
     "metadata": {},
     "output_type": "execute_result"
    }
   ],
   "source": [
    "df_raw['no_of_children'].unique()"
   ]
  },
  {
   "cell_type": "code",
   "execution_count": 268,
   "id": "9a1d7583",
   "metadata": {},
   "outputs": [
    {
     "data": {
      "text/plain": [
       "0    37786\n",
       "1     4314\n",
       "Name: no_of_children, dtype: int64"
      ]
     },
     "execution_count": 268,
     "metadata": {},
     "output_type": "execute_result"
    }
   ],
   "source": [
    "df_raw['no_of_children'] = df_raw.no_of_children.apply(lambda source: 0 if source == 0 else 1)\n",
    "df_raw['no_of_children'].value_counts()"
   ]
  },
  {
   "cell_type": "markdown",
   "id": "3d91ea95",
   "metadata": {},
   "source": [
    "**Summary**\n",
    "\n",
    "`No of children` demanded changing\n",
    "\n",
    "\n",
    "More adults visited the hotel without children. Only a small group of adult guests booked with children, so it was proper to make only two groups like 0 without children and 1 with children "
   ]
  },
  {
   "cell_type": "markdown",
   "id": "1b2fd7ed",
   "metadata": {},
   "source": [
    "#### No of weekend nights"
   ]
  },
  {
   "cell_type": "code",
   "execution_count": 269,
   "id": "565f7b8e",
   "metadata": {
    "scrolled": false
   },
   "outputs": [
    {
     "name": "stdout",
     "output_type": "stream",
     "text": [
      "Unique data:\n",
      "\n",
      "    [0 1 2 3 5 6 4 7]\n",
      "----------------------------------------------------------------------------------------------------\n",
      "Histogram\n"
     ]
    },
    {
     "data": {
      "image/png": "[encoded data removed]",
      "text/plain": [
       "<Figure size 432x288 with 1 Axes>"
      ]
     },
     "metadata": {
      "needs_background": "light"
     },
     "output_type": "display_data"
    },
    {
     "name": "stdout",
     "output_type": "stream",
     "text": [
      "----------------------------------------------------------------------------------------------------\n",
      "Value counts\n",
      "\n",
      "0    18137\n",
      "2    12143\n",
      "1    11389\n",
      "3      239\n",
      "4      128\n",
      "5       46\n",
      "6       17\n",
      "7        1\n",
      "Name: no_of_weekend_nights, dtype: int64\n",
      "----------------------------------------------------------------------------------------------------\n"
     ]
    }
   ],
   "source": [
    "First_looking_on_feature(df_raw['no_of_weekend_nights'])"
   ]
  },
  {
   "cell_type": "code",
   "execution_count": 270,
   "id": "98ae9e59",
   "metadata": {
    "scrolled": false
   },
   "outputs": [
    {
     "data": {
      "image/png": "[encoded data removed]",
      "text/plain": [
       "<Figure size 720x360 with 1 Axes>"
      ]
     },
     "metadata": {
      "needs_background": "light"
     },
     "output_type": "display_data"
    }
   ],
   "source": [
    "Sns_count_plot('no_of_weekend_nights')"
   ]
  },
  {
   "cell_type": "markdown",
   "id": "c0c6da5b",
   "metadata": {},
   "source": [
    "3, 4, 5, 6, 7 numbers of weekend nights are nonmeaningful so it can add it to 2 no of weekend nights"
   ]
  },
  {
   "cell_type": "code",
   "execution_count": 271,
   "id": "61a3866e",
   "metadata": {
    "scrolled": true
   },
   "outputs": [
    {
     "data": {
      "text/plain": [
       "no_of_weekend_nights\n",
       "0    18137\n",
       "1    11389\n",
       "2    12574\n",
       "Name: id, dtype: int64"
      ]
     },
     "execution_count": 271,
     "metadata": {},
     "output_type": "execute_result"
    }
   ],
   "source": [
    "df_raw['no_of_weekend_nights'] = df_raw.no_of_weekend_nights.apply(lambda source: 2 if source > 2 else source)\n",
    "df_raw.groupby('no_of_weekend_nights')['id'].count()"
   ]
  },
  {
   "cell_type": "code",
   "execution_count": 272,
   "id": "f56cd665",
   "metadata": {},
   "outputs": [
    {
     "data": {
      "text/plain": [
       "['no_of_adults', 'no_of_weekend_nights']"
      ]
     },
     "execution_count": 272,
     "metadata": {},
     "output_type": "execute_result"
    }
   ],
   "source": [
    "CATEGORICAL_FEATURES.append('no_of_weekend_nights')\n",
    "CATEGORICAL_FEATURES"
   ]
  },
  {
   "cell_type": "markdown",
   "id": "8f6cf06c",
   "metadata": {},
   "source": [
    "**Summary**\n",
    "\n",
    "Description of variables of `no of weekend nights`:\n",
    "\n",
    "* 0 - 0 `no of weekend nights`\n",
    "* 1 - 1 `no of weekend nights`\n",
    "* 2 - 2 or more `no of weekend nights`"
   ]
  },
  {
   "cell_type": "markdown",
   "id": "2933ba5f",
   "metadata": {},
   "source": [
    "#### No of week nights"
   ]
  },
  {
   "cell_type": "code",
   "execution_count": 273,
   "id": "319cd652",
   "metadata": {
    "scrolled": false
   },
   "outputs": [
    {
     "name": "stdout",
     "output_type": "stream",
     "text": [
      "Unique data:\n",
      "\n",
      "    [ 2  1  0  5  3  4  7  6  8 10 11  9 12 15 17 13 16 14]\n",
      "----------------------------------------------------------------------------------------------------\n",
      "Histogram\n"
     ]
    },
    {
     "data": {
      "image/png": "[encoded data removed]",
      "text/plain": [
       "<Figure size 432x288 with 1 Axes>"
      ]
     },
     "metadata": {
      "needs_background": "light"
     },
     "output_type": "display_data"
    },
    {
     "name": "stdout",
     "output_type": "stream",
     "text": [
      "----------------------------------------------------------------------------------------------------\n",
      "Value counts\n",
      "\n",
      "2     12905\n",
      "3     10286\n",
      "1      9558\n",
      "4      4175\n",
      "5      2573\n",
      "0      1937\n",
      "6       237\n",
      "7       160\n",
      "8        84\n",
      "10       82\n",
      "9        53\n",
      "11       16\n",
      "15       11\n",
      "12        9\n",
      "13        5\n",
      "16        4\n",
      "14        3\n",
      "17        2\n",
      "Name: no_of_week_nights, dtype: int64\n",
      "----------------------------------------------------------------------------------------------------\n"
     ]
    }
   ],
   "source": [
    "First_looking_on_feature(df_raw['no_of_week_nights'])"
   ]
  },
  {
   "cell_type": "code",
   "execution_count": 274,
   "id": "97d13363",
   "metadata": {
    "scrolled": false
   },
   "outputs": [
    {
     "data": {
      "image/png": "[encoded data removed]",
      "text/plain": [
       "<Figure size 720x360 with 1 Axes>"
      ]
     },
     "metadata": {
      "needs_background": "light"
     },
     "output_type": "display_data"
    }
   ],
   "source": [
    "Sns_count_plot('no_of_week_nights')"
   ]
  },
  {
   "cell_type": "markdown",
   "id": "166be994",
   "metadata": {},
   "source": [
    "This same case as `no_of_weekend_nights` but here we will limit data till 5 no_of_week_nights"
   ]
  },
  {
   "cell_type": "code",
   "execution_count": 275,
   "id": "9db34326",
   "metadata": {
    "scrolled": true
   },
   "outputs": [
    {
     "data": {
      "text/plain": [
       "2    12905\n",
       "3    10286\n",
       "1     9558\n",
       "4     4175\n",
       "5     3239\n",
       "0     1937\n",
       "Name: no_of_week_nights, dtype: int64"
      ]
     },
     "execution_count": 275,
     "metadata": {},
     "output_type": "execute_result"
    }
   ],
   "source": [
    "df_raw['no_of_week_nights'] = df_raw.no_of_week_nights.apply(lambda source: 5 if source > 5 else source)\n",
    "df_raw['no_of_week_nights'].value_counts()"
   ]
  },
  {
   "cell_type": "code",
   "execution_count": 276,
   "id": "199eceda",
   "metadata": {},
   "outputs": [
    {
     "data": {
      "text/plain": [
       "['no_of_adults', 'no_of_weekend_nights', 'no_of_week_nights']"
      ]
     },
     "execution_count": 276,
     "metadata": {},
     "output_type": "execute_result"
    }
   ],
   "source": [
    "CATEGORICAL_FEATURES.append('no_of_week_nights')\n",
    "CATEGORICAL_FEATURES"
   ]
  },
  {
   "cell_type": "markdown",
   "id": "e8c39526",
   "metadata": {},
   "source": [
    "**Summary**\n",
    "\n",
    "Description of variables of `no of week nights`:\n",
    "\n",
    "* 0 - 0 `no of week nights`\n",
    "* 1 - 1 `no of week nights`\n",
    "* 2 - 2 `no of week nights`\n",
    "* 3 - 3 `no of week nights`\n",
    "* 4 - 4 `no of week nights`\n",
    "* 5 - 5 and more `no of week nights`"
   ]
  },
  {
   "cell_type": "markdown",
   "id": "529add91",
   "metadata": {},
   "source": [
    "#### Type of meal plan"
   ]
  },
  {
   "cell_type": "code",
   "execution_count": 277,
   "id": "f52e8006",
   "metadata": {
    "scrolled": false
   },
   "outputs": [
    {
     "name": "stdout",
     "output_type": "stream",
     "text": [
      "Unique data:\n",
      "\n",
      "    [1 0 2 3]\n",
      "----------------------------------------------------------------------------------------------------\n",
      "Histogram\n"
     ]
    },
    {
     "data": {
      "image/png": "[encoded data removed]",
      "text/plain": [
       "<Figure size 432x288 with 1 Axes>"
      ]
     },
     "metadata": {
      "needs_background": "light"
     },
     "output_type": "display_data"
    },
    {
     "name": "stdout",
     "output_type": "stream",
     "text": [
      "----------------------------------------------------------------------------------------------------\n",
      "Value counts\n",
      "\n",
      "0    35463\n",
      "2     3421\n",
      "1     3210\n",
      "3        6\n",
      "Name: type_of_meal_plan, dtype: int64\n",
      "----------------------------------------------------------------------------------------------------\n"
     ]
    }
   ],
   "source": [
    "First_looking_on_feature(df_raw['type_of_meal_plan'])"
   ]
  },
  {
   "cell_type": "code",
   "execution_count": 278,
   "id": "eb3c09bf",
   "metadata": {
    "scrolled": false
   },
   "outputs": [
    {
     "data": {
      "image/png": "[encoded data removed]",
      "text/plain": [
       "<Figure size 720x360 with 1 Axes>"
      ]
     },
     "metadata": {
      "needs_background": "light"
     },
     "output_type": "display_data"
    }
   ],
   "source": [
    "Sns_count_plot('type_of_meal_plan')"
   ]
  },
  {
   "cell_type": "markdown",
   "id": "2bdc181e",
   "metadata": {},
   "source": [
    "We have one significant group. It is a group of guests who resigned deciding of type of meal plan.\n",
    "\n",
    "We can segment these variables into 0 and 1 where:\n",
    "* 0 means without `type of meal plan`\n",
    "* 1 means with `type of meal plan`"
   ]
  },
  {
   "cell_type": "code",
   "execution_count": 279,
   "id": "c292a607",
   "metadata": {},
   "outputs": [
    {
     "data": {
      "text/plain": [
       "0    35463\n",
       "1     6637\n",
       "Name: type_of_meal_plan, dtype: int64"
      ]
     },
     "execution_count": 279,
     "metadata": {},
     "output_type": "execute_result"
    }
   ],
   "source": [
    "df_raw['type_of_meal_plan'] = df_raw.type_of_meal_plan.apply(lambda source: 1 if source > 1 else source)\n",
    "df_raw['type_of_meal_plan'].value_counts()"
   ]
  },
  {
   "cell_type": "markdown",
   "id": "865f4ea2",
   "metadata": {},
   "source": [
    "**Summary**\n",
    "\n",
    "`Type of meal plan` looks 'OK'"
   ]
  },
  {
   "cell_type": "markdown",
   "id": "58bdee1b",
   "metadata": {},
   "source": [
    "#### Required car parking space"
   ]
  },
  {
   "cell_type": "code",
   "execution_count": 280,
   "id": "acf1ae89",
   "metadata": {
    "scrolled": false
   },
   "outputs": [
    {
     "name": "stdout",
     "output_type": "stream",
     "text": [
      "Unique data:\n",
      "\n",
      "    [0 1]\n",
      "----------------------------------------------------------------------------------------------------\n",
      "Histogram\n"
     ]
    },
    {
     "data": {
      "image/png": "[encoded data removed]",
      "text/plain": [
       "<Figure size 432x288 with 1 Axes>"
      ]
     },
     "metadata": {
      "needs_background": "light"
     },
     "output_type": "display_data"
    },
    {
     "name": "stdout",
     "output_type": "stream",
     "text": [
      "----------------------------------------------------------------------------------------------------\n",
      "Value counts\n",
      "\n",
      "0    41037\n",
      "1     1063\n",
      "Name: required_car_parking_space, dtype: int64\n",
      "----------------------------------------------------------------------------------------------------\n"
     ]
    }
   ],
   "source": [
    "First_looking_on_feature(df_raw['required_car_parking_space'])"
   ]
  },
  {
   "cell_type": "code",
   "execution_count": 281,
   "id": "a49f3142",
   "metadata": {
    "scrolled": true
   },
   "outputs": [
    {
     "data": {
      "image/png": "[encoded data removed]",
      "text/plain": [
       "<Figure size 720x360 with 1 Axes>"
      ]
     },
     "metadata": {
      "needs_background": "light"
     },
     "output_type": "display_data"
    }
   ],
   "source": [
    "Sns_count_plot('required_car_parking_space')"
   ]
  },
  {
   "cell_type": "code",
   "execution_count": 282,
   "id": "7daf8d41",
   "metadata": {},
   "outputs": [
    {
     "data": {
      "text/plain": [
       "['id', 'required_car_parking_space']"
      ]
     },
     "execution_count": 282,
     "metadata": {},
     "output_type": "execute_result"
    }
   ],
   "source": [
    "FEATURES_TO_DROP.append('required_car_parking_space')\n",
    "FEATURES_TO_DROP"
   ]
  },
  {
   "cell_type": "markdown",
   "id": "1ef26b14",
   "metadata": {},
   "source": [
    "**Summary**\n",
    "\n",
    "`Required car parking space` is useless and insignificant. \n",
    "\n",
    "Almost everyone decided to book accommodation without the parking space\n",
    "\n",
    "One decided to drop it."
   ]
  },
  {
   "cell_type": "markdown",
   "id": "757e6da4",
   "metadata": {},
   "source": [
    "#### Room type reserved"
   ]
  },
  {
   "cell_type": "code",
   "execution_count": 283,
   "id": "03317220",
   "metadata": {
    "scrolled": false
   },
   "outputs": [
    {
     "name": "stdout",
     "output_type": "stream",
     "text": [
      "Unique data:\n",
      "\n",
      "    [0 2 3 1 4 5 6]\n",
      "----------------------------------------------------------------------------------------------------\n",
      "Histogram\n"
     ]
    },
    {
     "data": {
      "image/png": "[encoded data removed]",
      "text/plain": [
       "<Figure size 432x288 with 1 Axes>"
      ]
     },
     "metadata": {
      "needs_background": "light"
     },
     "output_type": "display_data"
    },
    {
     "name": "stdout",
     "output_type": "stream",
     "text": [
      "----------------------------------------------------------------------------------------------------\n",
      "Value counts\n",
      "\n",
      "0    29853\n",
      "1     9135\n",
      "3     1465\n",
      "2     1131\n",
      "4      320\n",
      "5      190\n",
      "6        6\n",
      "Name: room_type_reserved, dtype: int64\n",
      "----------------------------------------------------------------------------------------------------\n"
     ]
    }
   ],
   "source": [
    "First_looking_on_feature(df_raw['room_type_reserved'])"
   ]
  },
  {
   "cell_type": "code",
   "execution_count": 284,
   "id": "f1bc2a29",
   "metadata": {
    "scrolled": true
   },
   "outputs": [
    {
     "data": {
      "image/png": "[encoded data removed]",
      "text/plain": [
       "<Figure size 720x360 with 1 Axes>"
      ]
     },
     "metadata": {
      "needs_background": "light"
     },
     "output_type": "display_data"
    }
   ],
   "source": [
    "Sns_count_plot('room_type_reserved')"
   ]
  },
  {
   "cell_type": "code",
   "execution_count": 285,
   "id": "e72ba24b",
   "metadata": {},
   "outputs": [
    {
     "data": {
      "text/plain": [
       "0    29853\n",
       "1     9135\n",
       "3     1981\n",
       "2     1131\n",
       "Name: room_type_reserved, dtype: int64"
      ]
     },
     "execution_count": 285,
     "metadata": {},
     "output_type": "execute_result"
    }
   ],
   "source": [
    "df_raw['room_type_reserved'] = df_raw.room_type_reserved.apply(lambda source: 3 if source > 3 else source)\n",
    "df_raw['room_type_reserved'].value_counts()"
   ]
  },
  {
   "cell_type": "code",
   "execution_count": 286,
   "id": "727fef6a",
   "metadata": {},
   "outputs": [
    {
     "data": {
      "text/plain": [
       "['no_of_adults',\n",
       " 'no_of_weekend_nights',\n",
       " 'no_of_week_nights',\n",
       " 'room_type_reserved']"
      ]
     },
     "execution_count": 286,
     "metadata": {},
     "output_type": "execute_result"
    }
   ],
   "source": [
    "CATEGORICAL_FEATURES.append('room_type_reserved')\n",
    "CATEGORICAL_FEATURES"
   ]
  },
  {
   "cell_type": "markdown",
   "id": "6fc31a0d",
   "metadata": {},
   "source": [
    "**Summary**\n",
    "\n",
    "`Room type reserved` looks 'OK'"
   ]
  },
  {
   "cell_type": "markdown",
   "id": "88d0b200",
   "metadata": {},
   "source": [
    "#### Lead time"
   ]
  },
  {
   "cell_type": "code",
   "execution_count": 287,
   "id": "fb73b4a1",
   "metadata": {
    "scrolled": true
   },
   "outputs": [
    {
     "name": "stdout",
     "output_type": "stream",
     "text": [
      "Unique data:\n",
      "\n",
      "    [  9 117 315  32 258 215 320 265 189 137   1  69  50 217  58 143 188 155\n",
      " 109  84   7   0 184  11 224 182 179 111  49  61 317  66  41 139 207 161\n",
      "  25 147 110 208 148 223  47 275  40 129  34  94 221  51  59  95 133  12\n",
      " 105 166   3 152  23  36 128  55 280  63  93  56  71 113  42 156   8  57\n",
      " 160 118  30  10 102 132 168 198 138 107  20 159 150   6 134 172  77  33\n",
      "  35 119 121 237  28 174 151 252   5 157 131 123 418 100  80 202   2  39\n",
      "  27 122  67 196  16 245  68   4 335 178 219  14 116 177 153 175  54  75\n",
      "  97 185  78 124 127 250  99  15 263  65  26  19  70 230  64 130  73 193\n",
      "  46 183 180  22 164 256 162 141  43 101  37 273  76 200 146  87 181  24\n",
      " 103 167 126 142 197  52 115 136  48  98  44  86 140 154 349  60 112 206\n",
      "  53 106 171  91  13  89 259 192  83  45 292 163 203  74 186 377 222 187\n",
      " 433  72  21  90  92 169 226 253 286 205 149  31 308  81 220  88 170 125\n",
      " 104 120 244  82 216 194 158  96 190 240 285 291 322  62 268 213 346 108\n",
      " 191 229 204  29 338  79  85  38 277 144 260 114 271 173 290 443 199 218\n",
      " 267 209 195 276 247 279 211 309 228 135 145 282 243 302 212  18 254 301\n",
      " 232 242 255 296 225  17 235 210 227 269 305 359 303 262 274 386 278 298\n",
      " 281 264 266 238 272 165 304 176 249 214 270 257 289 314 239 287 323 236\n",
      " 233 299 336 248 325 246 319 231 251 261 332 288 294 201 293 283 307 381\n",
      " 234 327 313 300 361 331 310 241 330 311 345 326 348 353]\n",
      "----------------------------------------------------------------------------------------------------\n",
      "Histogram\n"
     ]
    },
    {
     "data": {
      "image/png": "[encoded data removed]",
      "text/plain": [
       "<Figure size 432x288 with 1 Axes>"
      ]
     },
     "metadata": {
      "needs_background": "light"
     },
     "output_type": "display_data"
    },
    {
     "name": "stdout",
     "output_type": "stream",
     "text": [
      "----------------------------------------------------------------------------------------------------\n",
      "Value counts\n",
      "\n",
      "1      846\n",
      "0      827\n",
      "2      502\n",
      "6      498\n",
      "3      480\n",
      "      ... \n",
      "310      1\n",
      "325      1\n",
      "326      1\n",
      "348      1\n",
      "353      1\n",
      "Name: lead_time, Length: 338, dtype: int64\n",
      "----------------------------------------------------------------------------------------------------\n"
     ]
    }
   ],
   "source": [
    "First_looking_on_feature(df_raw['lead_time'])"
   ]
  },
  {
   "cell_type": "markdown",
   "id": "c2b5bccd",
   "metadata": {},
   "source": [
    "Many variables which are better to segment and sort data values into bins. "
   ]
  },
  {
   "cell_type": "code",
   "execution_count": 288,
   "id": "18da8ed1",
   "metadata": {},
   "outputs": [],
   "source": [
    "df_raw['lead_time'] = pd.cut(df_raw['lead_time'], 10, precision=0, labels=range(10)) \n",
    "# Because I have possibility to make numerical variables for bins so I use their (labels=range(10))"
   ]
  },
  {
   "cell_type": "code",
   "execution_count": 289,
   "id": "a0754a02",
   "metadata": {
    "scrolled": true
   },
   "outputs": [
    {
     "data": {
      "image/png": "[encoded data removed]",
      "text/plain": [
       "<Figure size 720x360 with 1 Axes>"
      ]
     },
     "metadata": {
      "needs_background": "light"
     },
     "output_type": "display_data"
    }
   ],
   "source": [
    "Sns_count_plot('lead_time')"
   ]
  },
  {
   "cell_type": "markdown",
   "id": "62cc8d9f",
   "metadata": {},
   "source": [
    "If a booking was made in more advance it impacted on better result of `booking status`, i.e. *honored*"
   ]
  },
  {
   "cell_type": "code",
   "execution_count": 290,
   "id": "23cb14f0",
   "metadata": {},
   "outputs": [
    {
     "data": {
      "text/plain": [
       "['no_of_adults',\n",
       " 'no_of_weekend_nights',\n",
       " 'no_of_week_nights',\n",
       " 'room_type_reserved',\n",
       " 'lead_time']"
      ]
     },
     "execution_count": 290,
     "metadata": {},
     "output_type": "execute_result"
    }
   ],
   "source": [
    "CATEGORICAL_FEATURES.append('lead_time')\n",
    "CATEGORICAL_FEATURES"
   ]
  },
  {
   "cell_type": "markdown",
   "id": "3a8a2005",
   "metadata": {},
   "source": [
    "**Summary**\n",
    "\n",
    "It essential turned out to segment data values into bins"
   ]
  },
  {
   "cell_type": "markdown",
   "id": "66bd1134",
   "metadata": {},
   "source": [
    "#### Arrival year"
   ]
  },
  {
   "cell_type": "code",
   "execution_count": 291,
   "id": "d2810eb0",
   "metadata": {
    "scrolled": true
   },
   "outputs": [
    {
     "name": "stdout",
     "output_type": "stream",
     "text": [
      "Unique data:\n",
      "\n",
      "    [2018 2017]\n",
      "----------------------------------------------------------------------------------------------------\n",
      "Histogram\n"
     ]
    },
    {
     "data": {
      "image/png": "[encoded data removed]",
      "text/plain": [
       "<Figure size 432x288 with 1 Axes>"
      ]
     },
     "metadata": {
      "needs_background": "light"
     },
     "output_type": "display_data"
    },
    {
     "name": "stdout",
     "output_type": "stream",
     "text": [
      "----------------------------------------------------------------------------------------------------\n",
      "Value counts\n",
      "\n",
      "2018    36050\n",
      "2017     6050\n",
      "Name: arrival_year, dtype: int64\n",
      "----------------------------------------------------------------------------------------------------\n"
     ]
    }
   ],
   "source": [
    "First_looking_on_feature(df_raw['arrival_year'])"
   ]
  },
  {
   "cell_type": "markdown",
   "id": "64d42eef",
   "metadata": {},
   "source": [
    "It looks like big inbalance data. This case can make that we will not see the seasonality of booking "
   ]
  },
  {
   "cell_type": "code",
   "execution_count": 292,
   "id": "be06857b",
   "metadata": {},
   "outputs": [
    {
     "data": {
      "text/plain": [
       "2018-8     4933\n",
       "2018-10    4719\n",
       "2018-7     4274\n",
       "2018-9     3838\n",
       "2018-6     3349\n",
       "2018-5     3284\n",
       "2018-4     3002\n",
       "2018-12    2302\n",
       "2018-3     2198\n",
       "2018-11    2155\n",
       "2017-10    1734\n",
       "2017-9     1310\n",
       "2018-2     1196\n",
       "2017-12    1089\n",
       "2017-8      830\n",
       "2018-1      800\n",
       "2017-11     648\n",
       "2017-7      407\n",
       "2017-5        8\n",
       "2017-6        7\n",
       "2017-2        5\n",
       "2017-1        5\n",
       "2017-4        4\n",
       "2017-3        3\n",
       "Name: arrival_year_month, dtype: int64"
      ]
     },
     "execution_count": 292,
     "metadata": {},
     "output_type": "execute_result"
    }
   ],
   "source": [
    "df_raw['arrival_year_month'] = df_raw['arrival_year'].astype(str) + '-' + df_raw['arrival_month'].astype(str)\n",
    "df_raw['arrival_year_month'].value_counts()"
   ]
  },
  {
   "cell_type": "markdown",
   "id": "51eeccbb",
   "metadata": {},
   "source": [
    "Unfortunately, the first seven months look like the opening of a Hotel or a mistake. It is better to drop this part of the dataset.\n",
    "\n",
    "It can be **black swan** that will disrupt machine learning"
   ]
  },
  {
   "cell_type": "code",
   "execution_count": 293,
   "id": "383b9aaa",
   "metadata": {
    "scrolled": true
   },
   "outputs": [
    {
     "data": {
      "image/png": "[encoded data removed]",
      "text/plain": [
       "<Figure size 720x360 with 1 Axes>"
      ]
     },
     "metadata": {
      "needs_background": "light"
     },
     "output_type": "display_data"
    }
   ],
   "source": [
    "Sns_count_plot('arrival_year')"
   ]
  },
  {
   "cell_type": "code",
   "execution_count": 294,
   "id": "cfd85e24",
   "metadata": {},
   "outputs": [
    {
     "data": {
      "text/plain": [
       "Index(['id', 'no_of_adults', 'no_of_children', 'no_of_weekend_nights',\n",
       "       'no_of_week_nights', 'type_of_meal_plan', 'required_car_parking_space',\n",
       "       'room_type_reserved', 'lead_time', 'arrival_year', 'arrival_month',\n",
       "       'arrival_date', 'market_segment_type', 'repeated_guest',\n",
       "       'no_of_previous_cancellations', 'no_of_previous_bookings_not_canceled',\n",
       "       'avg_price_per_room', 'no_of_special_requests', 'booking_status'],\n",
       "      dtype='object')"
      ]
     },
     "execution_count": 294,
     "metadata": {},
     "output_type": "execute_result"
    }
   ],
   "source": [
    "df_raw.drop('arrival_year_month', axis=1, inplace=True) # dropping a secondary column\n",
    "df_raw.columns"
   ]
  },
  {
   "cell_type": "code",
   "execution_count": 295,
   "id": "d961ba45",
   "metadata": {},
   "outputs": [],
   "source": [
    "df_raw.drop(df_raw[df_raw['arrival_year'] == 2017].index, axis=0, inplace=True) # dropping rows related to arrival_year = 2017 "
   ]
  },
  {
   "cell_type": "markdown",
   "id": "6aa16a9a",
   "metadata": {},
   "source": [
    "After that column of `arrival_year` is useless because it is composed of one variable (2018)"
   ]
  },
  {
   "cell_type": "code",
   "execution_count": 296,
   "id": "1cddfce8",
   "metadata": {},
   "outputs": [
    {
     "data": {
      "text/plain": [
       "['id', 'required_car_parking_space', 'arrival_year']"
      ]
     },
     "execution_count": 296,
     "metadata": {},
     "output_type": "execute_result"
    }
   ],
   "source": [
    "FEATURES_TO_DROP.append('arrival_year')\n",
    "FEATURES_TO_DROP"
   ]
  },
  {
   "cell_type": "markdown",
   "id": "708d6ecb",
   "metadata": {},
   "source": [
    "**Summary**\n",
    "\n",
    "`arrival_year` was diminished. Rows related to `arrival_year` of 2017 was dropped.\n",
    "\n",
    "`arrival_year` was dropped from the dataset"
   ]
  },
  {
   "cell_type": "markdown",
   "id": "e3c67e1f",
   "metadata": {},
   "source": [
    "#### Arrival month"
   ]
  },
  {
   "cell_type": "code",
   "execution_count": 297,
   "id": "8cddef39",
   "metadata": {
    "scrolled": true
   },
   "outputs": [
    {
     "name": "stdout",
     "output_type": "stream",
     "text": [
      "Unique data:\n",
      "\n",
      "    [ 1  7 12 10  8  6  9  4 11  5  3  2]\n",
      "----------------------------------------------------------------------------------------------------\n",
      "Histogram\n"
     ]
    },
    {
     "data": {
      "image/png": "[encoded data removed]",
      "text/plain": [
       "<Figure size 432x288 with 1 Axes>"
      ]
     },
     "metadata": {
      "needs_background": "light"
     },
     "output_type": "display_data"
    },
    {
     "name": "stdout",
     "output_type": "stream",
     "text": [
      "----------------------------------------------------------------------------------------------------\n",
      "Value counts\n",
      "\n",
      "8     4933\n",
      "10    4719\n",
      "7     4274\n",
      "9     3838\n",
      "6     3349\n",
      "5     3284\n",
      "4     3002\n",
      "12    2302\n",
      "3     2198\n",
      "11    2155\n",
      "2     1196\n",
      "1      800\n",
      "Name: arrival_month, dtype: int64\n",
      "----------------------------------------------------------------------------------------------------\n"
     ]
    }
   ],
   "source": [
    "First_looking_on_feature(df_raw['arrival_month'])"
   ]
  },
  {
   "cell_type": "code",
   "execution_count": 298,
   "id": "77671b82",
   "metadata": {
    "scrolled": false
   },
   "outputs": [
    {
     "data": {
      "image/png": "[encoded data removed]",
      "text/plain": [
       "<Figure size 720x360 with 1 Axes>"
      ]
     },
     "metadata": {
      "needs_background": "light"
     },
     "output_type": "display_data"
    }
   ],
   "source": [
    "Sns_count_plot('arrival_month')"
   ]
  },
  {
   "cell_type": "code",
   "execution_count": 299,
   "id": "9397197a",
   "metadata": {},
   "outputs": [
    {
     "data": {
      "text/plain": [
       "['no_of_adults',\n",
       " 'no_of_weekend_nights',\n",
       " 'no_of_week_nights',\n",
       " 'room_type_reserved',\n",
       " 'lead_time',\n",
       " 'arrival_month']"
      ]
     },
     "execution_count": 299,
     "metadata": {},
     "output_type": "execute_result"
    }
   ],
   "source": [
    "CATEGORICAL_FEATURES.append('arrival_month')\n",
    "CATEGORICAL_FEATURES"
   ]
  },
  {
   "cell_type": "markdown",
   "id": "ffb124af",
   "metadata": {},
   "source": [
    "**Summary**\n",
    "\n",
    "`arrival_month` looks 'OK'"
   ]
  },
  {
   "cell_type": "markdown",
   "id": "5c7cf0dc",
   "metadata": {},
   "source": [
    "#### Arrival date"
   ]
  },
  {
   "cell_type": "code",
   "execution_count": 300,
   "id": "e6536939",
   "metadata": {},
   "outputs": [
    {
     "name": "stdout",
     "output_type": "stream",
     "text": [
      "Unique data:\n",
      "\n",
      "    [14 29  2  1 16  6 18 24  8 22 27 12 30 26  3 25 28 21  4 15 20 11  5 10\n",
      "  7  9 23 19 31 17 13]\n",
      "----------------------------------------------------------------------------------------------------\n",
      "Histogram\n"
     ]
    },
    {
     "data": {
      "image/png": "[encoded data removed]",
      "text/plain": [
       "<Figure size 432x288 with 1 Axes>"
      ]
     },
     "metadata": {
      "needs_background": "light"
     },
     "output_type": "display_data"
    },
    {
     "name": "stdout",
     "output_type": "stream",
     "text": [
      "----------------------------------------------------------------------------------------------------\n",
      "Value counts\n",
      "\n",
      "27    1467\n",
      "16    1334\n",
      "28    1319\n",
      "13    1289\n",
      "26    1279\n",
      "25    1272\n",
      "2     1256\n",
      "30    1253\n",
      "6     1239\n",
      "1     1239\n",
      "8     1230\n",
      "20    1193\n",
      "17    1182\n",
      "29    1169\n",
      "3     1166\n",
      "12    1165\n",
      "4     1153\n",
      "21    1151\n",
      "15    1149\n",
      "23    1148\n",
      "5     1147\n",
      "9     1146\n",
      "19    1129\n",
      "22    1121\n",
      "11    1085\n",
      "7     1084\n",
      "24    1076\n",
      "18    1050\n",
      "10    1014\n",
      "14     962\n",
      "31     583\n",
      "Name: arrival_date, dtype: int64\n",
      "----------------------------------------------------------------------------------------------------\n"
     ]
    }
   ],
   "source": [
    "First_looking_on_feature(df_raw['arrival_date'])"
   ]
  },
  {
   "cell_type": "code",
   "execution_count": 301,
   "id": "d407a5bc",
   "metadata": {},
   "outputs": [
    {
     "data": {
      "image/png": "[encoded data removed]",
      "text/plain": [
       "<Figure size 720x360 with 1 Axes>"
      ]
     },
     "metadata": {
      "needs_background": "light"
     },
     "output_type": "display_data"
    }
   ],
   "source": [
    "Sns_count_plot('arrival_date')"
   ]
  },
  {
   "cell_type": "code",
   "execution_count": 302,
   "id": "a17660f7",
   "metadata": {},
   "outputs": [
    {
     "data": {
      "image/png": "[encoded data removed]",
      "text/plain": [
       "<Figure size 432x288 with 1 Axes>"
      ]
     },
     "metadata": {
      "needs_background": "light"
     },
     "output_type": "display_data"
    }
   ],
   "source": [
    "sns.kdeplot(df_raw[df_raw['booking_status'] == 0]['arrival_date'], color='b', shade=True, label='Honored')\n",
    "sns.kdeplot(df_raw[df_raw['booking_status'] == 1]['arrival_date'], color='r', shade=True, label='Cancelled')\n",
    "plt.legend()\n",
    "plt.show()"
   ]
  },
  {
   "cell_type": "markdown",
   "id": "3f178a82",
   "metadata": {},
   "source": [
    "The density is the same. The likelihood that a customer will decide to honor or cancel an accommodation on particular day is similar.\n",
    "\n",
    "It can drop this feature. "
   ]
  },
  {
   "cell_type": "code",
   "execution_count": 303,
   "id": "b7a2e357",
   "metadata": {},
   "outputs": [
    {
     "data": {
      "text/plain": [
       "['id', 'required_car_parking_space', 'arrival_year', 'arrival_date']"
      ]
     },
     "execution_count": 303,
     "metadata": {},
     "output_type": "execute_result"
    }
   ],
   "source": [
    "FEATURES_TO_DROP.append('arrival_date')\n",
    "FEATURES_TO_DROP"
   ]
  },
  {
   "cell_type": "markdown",
   "id": "b68b5615",
   "metadata": {},
   "source": [
    "**Summary**\n",
    "\n",
    "`arrival_date` was dropped because of low meaningful "
   ]
  },
  {
   "cell_type": "markdown",
   "id": "a7e0e670",
   "metadata": {},
   "source": [
    "#### Market segment type"
   ]
  },
  {
   "cell_type": "code",
   "execution_count": 304,
   "id": "473df5f9",
   "metadata": {},
   "outputs": [
    {
     "name": "stdout",
     "output_type": "stream",
     "text": [
      "Unique data:\n",
      "\n",
      "    [1 0 2 3 4]\n",
      "----------------------------------------------------------------------------------------------------\n",
      "Histogram\n"
     ]
    },
    {
     "data": {
      "image/png": "[encoded data removed]",
      "text/plain": [
       "<Figure size 432x288 with 1 Axes>"
      ]
     },
     "metadata": {
      "needs_background": "light"
     },
     "output_type": "display_data"
    },
    {
     "name": "stdout",
     "output_type": "stream",
     "text": [
      "----------------------------------------------------------------------------------------------------\n",
      "Value counts\n",
      "\n",
      "1    23994\n",
      "0    10527\n",
      "2     1153\n",
      "4      296\n",
      "3       80\n",
      "Name: market_segment_type, dtype: int64\n",
      "----------------------------------------------------------------------------------------------------\n"
     ]
    }
   ],
   "source": [
    "First_looking_on_feature(df_raw['market_segment_type'])"
   ]
  },
  {
   "cell_type": "code",
   "execution_count": 305,
   "id": "4929306e",
   "metadata": {},
   "outputs": [
    {
     "data": {
      "image/png": "[encoded data removed]",
      "text/plain": [
       "<Figure size 720x360 with 1 Axes>"
      ]
     },
     "metadata": {
      "needs_background": "light"
     },
     "output_type": "display_data"
    }
   ],
   "source": [
    "Sns_count_plot('market_segment_type')"
   ]
  },
  {
   "cell_type": "code",
   "execution_count": 306,
   "id": "ec3290b6",
   "metadata": {
    "scrolled": true
   },
   "outputs": [
    {
     "data": {
      "text/plain": [
       "market_segment_type  booking_status\n",
       "0                    0                  7749\n",
       "                     1                  2778\n",
       "1                    0                 11518\n",
       "                     1                 12476\n",
       "2                    0                  1012\n",
       "                     1                   141\n",
       "3                    0                    62\n",
       "                     1                    18\n",
       "4                    0                   291\n",
       "                     1                     5\n",
       "Name: id, dtype: int64"
      ]
     },
     "execution_count": 306,
     "metadata": {},
     "output_type": "execute_result"
    }
   ],
   "source": [
    "df_raw.groupby(['market_segment_type','booking_status'])['id'].count()"
   ]
  },
  {
   "cell_type": "markdown",
   "id": "67aee4e3",
   "metadata": {},
   "source": [
    "Very important variables because of the viable distinguishes according to `booking_status` of `market_segment_type`"
   ]
  },
  {
   "cell_type": "code",
   "execution_count": 307,
   "id": "680dcbc5",
   "metadata": {},
   "outputs": [
    {
     "data": {
      "text/plain": [
       "['no_of_adults',\n",
       " 'no_of_weekend_nights',\n",
       " 'no_of_week_nights',\n",
       " 'room_type_reserved',\n",
       " 'lead_time',\n",
       " 'arrival_month',\n",
       " 'market_segment_type']"
      ]
     },
     "execution_count": 307,
     "metadata": {},
     "output_type": "execute_result"
    }
   ],
   "source": [
    "CATEGORICAL_FEATURES.append('market_segment_type')\n",
    "CATEGORICAL_FEATURES"
   ]
  },
  {
   "cell_type": "markdown",
   "id": "9e8619ae",
   "metadata": {},
   "source": [
    "**Summary:**\n",
    "\n",
    "I made a decision to leave this column in the original status"
   ]
  },
  {
   "cell_type": "markdown",
   "id": "626543fd",
   "metadata": {},
   "source": [
    "#### Repeated guest"
   ]
  },
  {
   "cell_type": "code",
   "execution_count": 308,
   "id": "02fd1e2b",
   "metadata": {
    "scrolled": false
   },
   "outputs": [
    {
     "name": "stdout",
     "output_type": "stream",
     "text": [
      "Unique data:\n",
      "\n",
      "    [1 0]\n",
      "----------------------------------------------------------------------------------------------------\n",
      "Histogram\n"
     ]
    },
    {
     "data": {
      "image/png": "[encoded data removed]",
      "text/plain": [
       "<Figure size 432x288 with 1 Axes>"
      ]
     },
     "metadata": {
      "needs_background": "light"
     },
     "output_type": "display_data"
    },
    {
     "name": "stdout",
     "output_type": "stream",
     "text": [
      "----------------------------------------------------------------------------------------------------\n",
      "Value counts\n",
      "\n",
      "0    35076\n",
      "1      974\n",
      "Name: repeated_guest, dtype: int64\n",
      "----------------------------------------------------------------------------------------------------\n"
     ]
    }
   ],
   "source": [
    "First_looking_on_feature(df_raw['repeated_guest'])"
   ]
  },
  {
   "cell_type": "code",
   "execution_count": 309,
   "id": "41559d51",
   "metadata": {
    "scrolled": true
   },
   "outputs": [
    {
     "data": {
      "image/png": "[encoded data removed]",
      "text/plain": [
       "<Figure size 720x360 with 1 Axes>"
      ]
     },
     "metadata": {
      "needs_background": "light"
     },
     "output_type": "display_data"
    }
   ],
   "source": [
    "Sns_count_plot('repeated_guest')"
   ]
  },
  {
   "cell_type": "code",
   "execution_count": 333,
   "id": "d2b8ded1",
   "metadata": {},
   "outputs": [
    {
     "name": "stdout",
     "output_type": "stream",
     "text": [
      "Repeated guest - NO: 43.9% - rate of honored\n",
      "Repeated guest - YES: 1.0% - rate of honored\n"
     ]
    }
   ],
   "source": [
    "rq_values = df_raw.groupby(['repeated_guest','booking_status'])['id'].count().values\n",
    "print(f'Repeated guest - NO: {rq_values[1]/(rq_values[0]+rq_values[1])*100:.1f}% - rate of honored')\n",
    "print(f'Repeated guest - YES: {rq_values[3]/(rq_values[2]+rq_values[3])*100:.1f}% - rate of honored')  "
   ]
  },
  {
   "cell_type": "code",
   "execution_count": 311,
   "id": "924136c6",
   "metadata": {},
   "outputs": [],
   "source": [
    "FEATURES_TO_DROP.append('repeated_guest')"
   ]
  },
  {
   "cell_type": "markdown",
   "id": "5c95b85d",
   "metadata": {},
   "source": [
    "**Summary:**\n",
    "\n",
    "It is not important rate which ought to drop from my point of view"
   ]
  },
  {
   "cell_type": "markdown",
   "id": "308e470a",
   "metadata": {},
   "source": [
    "#### No of previous cancellations"
   ]
  },
  {
   "cell_type": "code",
   "execution_count": 312,
   "id": "4a629012",
   "metadata": {
    "scrolled": false
   },
   "outputs": [
    {
     "name": "stdout",
     "output_type": "stream",
     "text": [
      "Unique data:\n",
      "\n",
      "    [11  0  4  1  2  3  8 13  6  5]\n",
      "----------------------------------------------------------------------------------------------------\n",
      "Histogram\n"
     ]
    },
    {
     "data": {
      "image/png": "[encoded data removed]",
      "text/plain": [
       "<Figure size 432x288 with 1 Axes>"
      ]
     },
     "metadata": {
      "needs_background": "light"
     },
     "output_type": "display_data"
    },
    {
     "name": "stdout",
     "output_type": "stream",
     "text": [
      "----------------------------------------------------------------------------------------------------\n",
      "Value counts\n",
      "\n",
      "0     35828\n",
      "1        86\n",
      "3        48\n",
      "2        42\n",
      "11       22\n",
      "4        15\n",
      "13        3\n",
      "5         3\n",
      "6         2\n",
      "8         1\n",
      "Name: no_of_previous_cancellations, dtype: int64\n",
      "----------------------------------------------------------------------------------------------------\n"
     ]
    }
   ],
   "source": [
    "First_looking_on_feature(df_raw['no_of_previous_cancellations'])"
   ]
  },
  {
   "cell_type": "code",
   "execution_count": 313,
   "id": "f1c68bf9",
   "metadata": {
    "scrolled": true
   },
   "outputs": [
    {
     "data": {
      "image/png": "[encoded data removed]",
      "text/plain": [
       "<Figure size 720x360 with 1 Axes>"
      ]
     },
     "metadata": {
      "needs_background": "light"
     },
     "output_type": "display_data"
    }
   ],
   "source": [
    "Sns_count_plot('no_of_previous_cancellations')"
   ]
  },
  {
   "cell_type": "code",
   "execution_count": 314,
   "id": "709f5402",
   "metadata": {},
   "outputs": [
    {
     "data": {
      "text/plain": [
       "['id',\n",
       " 'required_car_parking_space',\n",
       " 'arrival_year',\n",
       " 'arrival_date',\n",
       " 'repeated_guest',\n",
       " 'no_of_previous_cancellations']"
      ]
     },
     "execution_count": 314,
     "metadata": {},
     "output_type": "execute_result"
    }
   ],
   "source": [
    "FEATURES_TO_DROP.append('no_of_previous_cancellations')\n",
    "FEATURES_TO_DROP"
   ]
  },
  {
   "cell_type": "markdown",
   "id": "72f5c4c3",
   "metadata": {},
   "source": [
    "**Summary**\n",
    "\n",
    "Because of low rate of repeated_quest, no_of_previous_cancellations is useless and in this dataset cannot help. \n",
    "\n",
    "Regardless of upper statement almost the whole dataset related to guests, who intended to visit Hotel first time."
   ]
  },
  {
   "cell_type": "markdown",
   "id": "d737438f",
   "metadata": {},
   "source": [
    "#### No of previous bookings not canceled"
   ]
  },
  {
   "cell_type": "code",
   "execution_count": 315,
   "id": "d1be9841",
   "metadata": {
    "scrolled": true
   },
   "outputs": [
    {
     "name": "stdout",
     "output_type": "stream",
     "text": [
      "Unique data:\n",
      "\n",
      "    [ 0  2  3 23 47  7  8 14  4  6 13  1 12  5 33 16 18 10 11 27 17 21 30 43\n",
      " 44 24 35  9 37 20 41 46 32 36 22 26 19 48 28 58 25 15]\n",
      "----------------------------------------------------------------------------------------------------\n",
      "Histogram\n"
     ]
    },
    {
     "data": {
      "image/png": "[encoded data removed]",
      "text/plain": [
       "<Figure size 432x288 with 1 Axes>"
      ]
     },
     "metadata": {
      "needs_background": "light"
     },
     "output_type": "display_data"
    },
    {
     "name": "stdout",
     "output_type": "stream",
     "text": [
      "----------------------------------------------------------------------------------------------------\n",
      "Value counts\n",
      "\n",
      "0     35116\n",
      "1       203\n",
      "2       117\n",
      "3        95\n",
      "5        75\n",
      "4        75\n",
      "6        46\n",
      "7        43\n",
      "8        43\n",
      "11       36\n",
      "10       29\n",
      "12       23\n",
      "18       21\n",
      "9        16\n",
      "16       14\n",
      "13       10\n",
      "14        9\n",
      "20        9\n",
      "23        6\n",
      "32        5\n",
      "35        5\n",
      "24        4\n",
      "46        4\n",
      "21        4\n",
      "17        4\n",
      "27        4\n",
      "33        4\n",
      "36        3\n",
      "30        3\n",
      "48        3\n",
      "47        3\n",
      "43        3\n",
      "26        2\n",
      "58        2\n",
      "19        2\n",
      "44        2\n",
      "37        2\n",
      "22        1\n",
      "41        1\n",
      "28        1\n",
      "25        1\n",
      "15        1\n",
      "Name: no_of_previous_bookings_not_canceled, dtype: int64\n",
      "----------------------------------------------------------------------------------------------------\n"
     ]
    }
   ],
   "source": [
    "First_looking_on_feature(df_raw['no_of_previous_bookings_not_canceled'])"
   ]
  },
  {
   "cell_type": "markdown",
   "id": "e09c690b",
   "metadata": {},
   "source": [
    "It is the same matter like previous case related to `no_of_previous_cancellations`\n",
    "\n",
    "This feature will be dropped"
   ]
  },
  {
   "cell_type": "code",
   "execution_count": 316,
   "id": "ccd0615a",
   "metadata": {},
   "outputs": [
    {
     "data": {
      "text/plain": [
       "['id',\n",
       " 'required_car_parking_space',\n",
       " 'arrival_year',\n",
       " 'arrival_date',\n",
       " 'repeated_guest',\n",
       " 'no_of_previous_cancellations',\n",
       " 'no_of_previous_bookings_not_canceled']"
      ]
     },
     "execution_count": 316,
     "metadata": {},
     "output_type": "execute_result"
    }
   ],
   "source": [
    "FEATURES_TO_DROP.append('no_of_previous_bookings_not_canceled')\n",
    "FEATURES_TO_DROP"
   ]
  },
  {
   "cell_type": "markdown",
   "id": "343ca5d6",
   "metadata": {},
   "source": [
    "**Summary**\n",
    "\n",
    "This feature was dropped"
   ]
  },
  {
   "cell_type": "markdown",
   "id": "2afafd53",
   "metadata": {},
   "source": [
    "#### Avg price per room\t"
   ]
  },
  {
   "cell_type": "code",
   "execution_count": 317,
   "id": "ebacd49c",
   "metadata": {},
   "outputs": [
    {
     "name": "stdout",
     "output_type": "stream",
     "text": [
      "Unique data:\n",
      "\n",
      "    [67.5  72.25 52.   ... 86.07 93.7  44.  ]\n",
      "----------------------------------------------------------------------------------------------------\n",
      "Histogram\n"
     ]
    },
    {
     "data": {
      "image/png": "[encoded data removed]",
      "text/plain": [
       "<Figure size 432x288 with 1 Axes>"
      ]
     },
     "metadata": {
      "needs_background": "light"
     },
     "output_type": "display_data"
    },
    {
     "name": "stdout",
     "output_type": "stream",
     "text": [
      "----------------------------------------------------------------------------------------------------\n",
      "Value counts\n",
      "\n",
      "75.00     1076\n",
      "80.75      902\n",
      "90.95      748\n",
      "90.00      737\n",
      "105.30     632\n",
      "          ... \n",
      "79.36        1\n",
      "116.59       1\n",
      "152.79       1\n",
      "86.08        1\n",
      "44.00        1\n",
      "Name: avg_price_per_room, Length: 2170, dtype: int64\n",
      "----------------------------------------------------------------------------------------------------\n"
     ]
    }
   ],
   "source": [
    "First_looking_on_feature(df_raw['avg_price_per_room'])"
   ]
  },
  {
   "cell_type": "code",
   "execution_count": 318,
   "id": "8312d29d",
   "metadata": {},
   "outputs": [
    {
     "data": {
      "text/plain": [
       "374"
      ]
     },
     "execution_count": 318,
     "metadata": {},
     "output_type": "execute_result"
    }
   ],
   "source": [
    "df_raw[df_raw['avg_price_per_room'] == 0]['id'].count()"
   ]
  },
  {
   "cell_type": "markdown",
   "id": "587e4c68",
   "metadata": {},
   "source": [
    "It is a mistake probably that there are 374 rows which have 0 of `avg_price_per_room`\n",
    "\n",
    "I will change these prices on median. Next `avg_price_per_room` will be segmented into bins"
   ]
  },
  {
   "cell_type": "code",
   "execution_count": 319,
   "id": "439490dc",
   "metadata": {},
   "outputs": [
    {
     "data": {
      "image/png": "[encoded data removed]",
      "text/plain": [
       "<Figure size 720x360 with 1 Axes>"
      ]
     },
     "metadata": {
      "needs_background": "light"
     },
     "output_type": "display_data"
    },
    {
     "data": {
      "text/plain": [
       "1    19919\n",
       "2    13142\n",
       "3     2261\n",
       "0      352\n",
       "4      322\n",
       "5       43\n",
       "6        6\n",
       "9        5\n",
       "7        0\n",
       "8        0\n",
       "Name: avg_price_per_room, dtype: int64"
      ]
     },
     "execution_count": 319,
     "metadata": {},
     "output_type": "execute_result"
    }
   ],
   "source": [
    "df_raw['avg_price_per_room'] = df_raw.avg_price_per_room.apply(lambda source: np.median(df_raw['avg_price_per_room']) if source == 0 else source)\n",
    "df_raw['avg_price_per_room'] = pd.cut(df_raw['avg_price_per_room'], 10, precision=0, labels=range(10))\n",
    "Sns_count_plot('avg_price_per_room')\n",
    "df_raw['avg_price_per_room'].value_counts()"
   ]
  },
  {
   "cell_type": "markdown",
   "id": "e5936060",
   "metadata": {},
   "source": [
    "It turns out that 5 group of `avg_price_per_room` is sufficient so 5th, 6th, 7th, 8th group will be changed on 4th group."
   ]
  },
  {
   "cell_type": "code",
   "execution_count": 320,
   "id": "28572750",
   "metadata": {
    "scrolled": true
   },
   "outputs": [
    {
     "data": {
      "image/png": "[encoded data removed]",
      "text/plain": [
       "<Figure size 720x360 with 1 Axes>"
      ]
     },
     "metadata": {
      "needs_background": "light"
     },
     "output_type": "display_data"
    },
    {
     "data": {
      "text/plain": [
       "1    19919\n",
       "2    13142\n",
       "3     2261\n",
       "4      376\n",
       "0      352\n",
       "Name: avg_price_per_room, dtype: int64"
      ]
     },
     "execution_count": 320,
     "metadata": {},
     "output_type": "execute_result"
    }
   ],
   "source": [
    "df_raw['avg_price_per_room'] = df_raw.avg_price_per_room.apply(lambda source: 4 if source > 4 else source)\n",
    "Sns_count_plot('avg_price_per_room')\n",
    "df_raw['avg_price_per_room'].value_counts()"
   ]
  },
  {
   "cell_type": "code",
   "execution_count": 321,
   "id": "78ee1a58",
   "metadata": {},
   "outputs": [
    {
     "data": {
      "text/plain": [
       "['no_of_adults',\n",
       " 'no_of_weekend_nights',\n",
       " 'no_of_week_nights',\n",
       " 'room_type_reserved',\n",
       " 'lead_time',\n",
       " 'arrival_month',\n",
       " 'market_segment_type',\n",
       " 'avg_price_per_room']"
      ]
     },
     "execution_count": 321,
     "metadata": {},
     "output_type": "execute_result"
    }
   ],
   "source": [
    "CATEGORICAL_FEATURES.append('avg_price_per_room')\n",
    "CATEGORICAL_FEATURES"
   ]
  },
  {
   "cell_type": "markdown",
   "id": "cf2afeb4",
   "metadata": {},
   "source": [
    "**Summary**\n",
    "\n",
    "It was made a range of changes like segmentation and changing of groups  "
   ]
  },
  {
   "cell_type": "markdown",
   "id": "73def702",
   "metadata": {},
   "source": [
    "#### No of special requests"
   ]
  },
  {
   "cell_type": "code",
   "execution_count": 322,
   "id": "a13b91eb",
   "metadata": {},
   "outputs": [
    {
     "name": "stdout",
     "output_type": "stream",
     "text": [
      "Unique data:\n",
      "\n",
      "    [0 1 2 3 4 5]\n",
      "----------------------------------------------------------------------------------------------------\n",
      "Histogram\n"
     ]
    },
    {
     "data": {
      "image/png": "[encoded data removed]",
      "text/plain": [
       "<Figure size 432x288 with 1 Axes>"
      ]
     },
     "metadata": {
      "needs_background": "light"
     },
     "output_type": "display_data"
    },
    {
     "name": "stdout",
     "output_type": "stream",
     "text": [
      "----------------------------------------------------------------------------------------------------\n",
      "Value counts\n",
      "\n",
      "0    20222\n",
      "1    10667\n",
      "2     4503\n",
      "3      568\n",
      "4       89\n",
      "5        1\n",
      "Name: no_of_special_requests, dtype: int64\n",
      "----------------------------------------------------------------------------------------------------\n"
     ]
    }
   ],
   "source": [
    "First_looking_on_feature(df_raw['no_of_special_requests'])"
   ]
  },
  {
   "cell_type": "code",
   "execution_count": 323,
   "id": "49519066",
   "metadata": {
    "scrolled": true
   },
   "outputs": [
    {
     "data": {
      "image/png": "[encoded data removed]",
      "text/plain": [
       "<Figure size 720x360 with 1 Axes>"
      ]
     },
     "metadata": {
      "needs_background": "light"
     },
     "output_type": "display_data"
    }
   ],
   "source": [
    "Sns_count_plot('no_of_special_requests')"
   ]
  },
  {
   "cell_type": "markdown",
   "id": "ef295212",
   "metadata": {},
   "source": [
    "It can notice the visible trend that guests who do not have a special request, they are more tendency to honor their accomodation. \n",
    "\n",
    "This feature can be changed to binary variables, i.e.:\n",
    "* 0 - without special requests\n",
    "* 1 - with special requests"
   ]
  },
  {
   "cell_type": "code",
   "execution_count": 324,
   "id": "fa92b81a",
   "metadata": {
    "scrolled": true
   },
   "outputs": [
    {
     "data": {
      "image/png": "[encoded data removed]",
      "text/plain": [
       "<Figure size 720x360 with 1 Axes>"
      ]
     },
     "metadata": {
      "needs_background": "light"
     },
     "output_type": "display_data"
    }
   ],
   "source": [
    "df_raw['no_of_special_requests'] = df_raw.no_of_special_requests.apply(lambda source: 1 if source > 1 else source)\n",
    "Sns_count_plot('no_of_special_requests')"
   ]
  },
  {
   "cell_type": "markdown",
   "id": "9589607f",
   "metadata": {},
   "source": [
    "**Summary**\n",
    "\n",
    "This variables were changed to binary variables, i.e.:\n",
    "\n",
    "* 0 - without special requests\n",
    "* 1 - with special requests"
   ]
  },
  {
   "cell_type": "markdown",
   "id": "f0874a2e",
   "metadata": {},
   "source": [
    "### Booking status - the objective of predicting"
   ]
  },
  {
   "cell_type": "code",
   "execution_count": 325,
   "id": "47e9c645",
   "metadata": {
    "scrolled": false
   },
   "outputs": [
    {
     "name": "stdout",
     "output_type": "stream",
     "text": [
      "Unique data:\n",
      "\n",
      "    [0 1]\n",
      "----------------------------------------------------------------------------------------------------\n",
      "Histogram\n"
     ]
    },
    {
     "data": {
      "image/png": "[encoded data removed]",
      "text/plain": [
       "<Figure size 432x288 with 1 Axes>"
      ]
     },
     "metadata": {
      "needs_background": "light"
     },
     "output_type": "display_data"
    },
    {
     "name": "stdout",
     "output_type": "stream",
     "text": [
      "----------------------------------------------------------------------------------------------------\n",
      "Value counts\n",
      "\n",
      "0    20632\n",
      "1    15418\n",
      "Name: booking_status, dtype: int64\n",
      "----------------------------------------------------------------------------------------------------\n"
     ]
    }
   ],
   "source": [
    "First_looking_on_feature(df_raw['booking_status'])"
   ]
  },
  {
   "cell_type": "code",
   "execution_count": 326,
   "id": "b4713a2f",
   "metadata": {},
   "outputs": [
    {
     "data": {
      "text/plain": [
       "<function matplotlib.pyplot.show(close=None, block=None)>"
      ]
     },
     "execution_count": 326,
     "metadata": {},
     "output_type": "execute_result"
    },
    {
     "data": {
      "image/png": "[encoded data removed]",
      "text/plain": [
       "<Figure size 432x288 with 1 Axes>"
      ]
     },
     "metadata": {},
     "output_type": "display_data"
    }
   ],
   "source": [
    "sizes = [df_raw.booking_status[df_raw['booking_status'] == 1].count(), df_raw.booking_status[df_raw['booking_status'] == 0].count()]\n",
    "explode = (0.1, 0)\n",
    "labels = 'Honored', 'Cancelled'\n",
    "plt.pie(sizes, explode=explode, labels=labels, autopct='%1.1f%%', shadow=True)\n",
    "plt.show()"
   ]
  },
  {
   "cell_type": "markdown",
   "id": "5ac19f89",
   "metadata": {},
   "source": [
    "**Summary**\n",
    "\n",
    "`booking_status` is balanced and it can remain it in the original form. "
   ]
  },
  {
   "cell_type": "markdown",
   "id": "f68e8a82",
   "metadata": {},
   "source": [
    "### Remove redundant columns"
   ]
  },
  {
   "cell_type": "code",
   "execution_count": 327,
   "id": "0874deb3",
   "metadata": {},
   "outputs": [
    {
     "data": {
      "text/plain": [
       "['id',\n",
       " 'required_car_parking_space',\n",
       " 'arrival_year',\n",
       " 'arrival_date',\n",
       " 'repeated_guest',\n",
       " 'no_of_previous_cancellations',\n",
       " 'no_of_previous_bookings_not_canceled']"
      ]
     },
     "execution_count": 327,
     "metadata": {},
     "output_type": "execute_result"
    }
   ],
   "source": [
    "FEATURES_TO_DROP"
   ]
  },
  {
   "cell_type": "code",
   "execution_count": 328,
   "id": "8c13bb40",
   "metadata": {
    "scrolled": true
   },
   "outputs": [
    {
     "data": {
      "text/plain": [
       "(36050, 12)"
      ]
     },
     "execution_count": 328,
     "metadata": {},
     "output_type": "execute_result"
    }
   ],
   "source": [
    "df = df_raw.drop(labels=FEATURES_TO_DROP, axis=1)\n",
    "df.shape"
   ]
  },
  {
   "cell_type": "markdown",
   "id": "66d4cb2a",
   "metadata": {},
   "source": [
    "### Convert all categorical features into dummy variables"
   ]
  },
  {
   "cell_type": "code",
   "execution_count": 329,
   "id": "7c4b3a0d",
   "metadata": {},
   "outputs": [
    {
     "data": {
      "text/plain": [
       "['no_of_adults',\n",
       " 'no_of_weekend_nights',\n",
       " 'no_of_week_nights',\n",
       " 'room_type_reserved',\n",
       " 'lead_time',\n",
       " 'arrival_month',\n",
       " 'market_segment_type',\n",
       " 'avg_price_per_room']"
      ]
     },
     "execution_count": 329,
     "metadata": {},
     "output_type": "execute_result"
    }
   ],
   "source": [
    "CATEGORICAL_FEATURES"
   ]
  },
  {
   "cell_type": "code",
   "execution_count": 330,
   "id": "570cf46b",
   "metadata": {
    "scrolled": true
   },
   "outputs": [
    {
     "name": "stdout",
     "output_type": "stream",
     "text": [
      "<class 'pandas.core.frame.DataFrame'>\n",
      "Int64Index: 36050 entries, 0 to 42098\n",
      "Data columns (total 52 columns):\n",
      " #   Column                  Non-Null Count  Dtype\n",
      "---  ------                  --------------  -----\n",
      " 0   no_of_children          36050 non-null  int64\n",
      " 1   type_of_meal_plan       36050 non-null  int64\n",
      " 2   no_of_special_requests  36050 non-null  int64\n",
      " 3   booking_status          36050 non-null  int64\n",
      " 4   no_of_adults_1          36050 non-null  uint8\n",
      " 5   no_of_adults_2          36050 non-null  uint8\n",
      " 6   no_of_adults_3          36050 non-null  uint8\n",
      " 7   no_of_weekend_nights_0  36050 non-null  uint8\n",
      " 8   no_of_weekend_nights_1  36050 non-null  uint8\n",
      " 9   no_of_weekend_nights_2  36050 non-null  uint8\n",
      " 10  no_of_week_nights_0     36050 non-null  uint8\n",
      " 11  no_of_week_nights_1     36050 non-null  uint8\n",
      " 12  no_of_week_nights_2     36050 non-null  uint8\n",
      " 13  no_of_week_nights_3     36050 non-null  uint8\n",
      " 14  no_of_week_nights_4     36050 non-null  uint8\n",
      " 15  no_of_week_nights_5     36050 non-null  uint8\n",
      " 16  room_type_reserved_0    36050 non-null  uint8\n",
      " 17  room_type_reserved_1    36050 non-null  uint8\n",
      " 18  room_type_reserved_2    36050 non-null  uint8\n",
      " 19  room_type_reserved_3    36050 non-null  uint8\n",
      " 20  lead_time_0             36050 non-null  uint8\n",
      " 21  lead_time_1             36050 non-null  uint8\n",
      " 22  lead_time_2             36050 non-null  uint8\n",
      " 23  lead_time_3             36050 non-null  uint8\n",
      " 24  lead_time_4             36050 non-null  uint8\n",
      " 25  lead_time_5             36050 non-null  uint8\n",
      " 26  lead_time_6             36050 non-null  uint8\n",
      " 27  lead_time_7             36050 non-null  uint8\n",
      " 28  lead_time_8             36050 non-null  uint8\n",
      " 29  lead_time_9             36050 non-null  uint8\n",
      " 30  arrival_month_1         36050 non-null  uint8\n",
      " 31  arrival_month_2         36050 non-null  uint8\n",
      " 32  arrival_month_3         36050 non-null  uint8\n",
      " 33  arrival_month_4         36050 non-null  uint8\n",
      " 34  arrival_month_5         36050 non-null  uint8\n",
      " 35  arrival_month_6         36050 non-null  uint8\n",
      " 36  arrival_month_7         36050 non-null  uint8\n",
      " 37  arrival_month_8         36050 non-null  uint8\n",
      " 38  arrival_month_9         36050 non-null  uint8\n",
      " 39  arrival_month_10        36050 non-null  uint8\n",
      " 40  arrival_month_11        36050 non-null  uint8\n",
      " 41  arrival_month_12        36050 non-null  uint8\n",
      " 42  market_segment_type_0   36050 non-null  uint8\n",
      " 43  market_segment_type_1   36050 non-null  uint8\n",
      " 44  market_segment_type_2   36050 non-null  uint8\n",
      " 45  market_segment_type_3   36050 non-null  uint8\n",
      " 46  market_segment_type_4   36050 non-null  uint8\n",
      " 47  avg_price_per_room_0    36050 non-null  uint8\n",
      " 48  avg_price_per_room_1    36050 non-null  uint8\n",
      " 49  avg_price_per_room_2    36050 non-null  uint8\n",
      " 50  avg_price_per_room_3    36050 non-null  uint8\n",
      " 51  avg_price_per_room_4    36050 non-null  uint8\n",
      "dtypes: int64(4), uint8(48)\n",
      "memory usage: 3.0 MB\n"
     ]
    }
   ],
   "source": [
    "df_enc = pd.get_dummies(data=df, columns=CATEGORICAL_FEATURES, drop_first=False)\n",
    "df_enc.info()"
   ]
  },
  {
   "cell_type": "markdown",
   "id": "8677fa96",
   "metadata": {},
   "source": [
    "### Scale variables "
   ]
  },
  {
   "cell_type": "markdown",
   "id": "de3526b6",
   "metadata": {},
   "source": [
    "Scale is not necessary because all variables are binary"
   ]
  },
  {
   "cell_type": "markdown",
   "id": "f401a97e",
   "metadata": {},
   "source": [
    "## Saving the prepared data for machine learning"
   ]
  },
  {
   "cell_type": "code",
   "execution_count": 331,
   "id": "91f0b5af",
   "metadata": {},
   "outputs": [
    {
     "name": "stdout",
     "output_type": "stream",
     "text": [
      "X: (36050, 51), y: (36050,)\n"
     ]
    }
   ],
   "source": [
    "X = df_enc.drop('booking_status', axis=1)\n",
    "y = df_enc['booking_status']\n",
    "\n",
    "print(f'X: {X.shape}, y: {y.shape}')"
   ]
  },
  {
   "cell_type": "code",
   "execution_count": 332,
   "id": "d340a329",
   "metadata": {},
   "outputs": [],
   "source": [
    "X.to_csv('X_ml.csv', sep=',', index=False)\n",
    "y.to_csv('y_ml.csv', sep=',', index=False)"
   ]
  },
  {
   "cell_type": "markdown",
   "id": "83142402",
   "metadata": {},
   "source": [
    "The next step is machine learning. \n",
    "It is available herewith: \n",
    "[Jupyter-notebook](ML_Datascience10092022_AmadeuszMinta.ipynb)"
   ]
  }
 ],
 "metadata": {
  "kernelspec": {
   "display_name": "Python 3 (ipykernel)",
   "language": "python",
   "name": "python3"
  },
  "language_info": {
   "codemirror_mode": {
    "name": "ipython",
    "version": 3
   },
   "file_extension": ".py",
   "mimetype": "text/x-python",
   "name": "python",
   "nbconvert_exporter": "python",
   "pygments_lexer": "ipython3",
   "version": "3.9.12"
  },
  "toc": {
   "base_numbering": 1,
   "nav_menu": {},
   "number_sections": true,
   "sideBar": true,
   "skip_h1_title": true,
   "title_cell": "Table of Contents",
   "title_sidebar": "Contents",
   "toc_cell": false,
   "toc_position": {
    "height": "calc(100% - 180px)",
    "left": "10px",
    "top": "150px",
    "width": "384px"
   },
   "toc_section_display": true,
   "toc_window_display": true
  },
  "varInspector": {
   "cols": {
    "lenName": 16,
    "lenType": 16,
    "lenVar": 40
   },
   "kernels_config": {
    "python": {
     "delete_cmd_postfix": "",
     "delete_cmd_prefix": "del ",
     "library": "var_list.py",
     "varRefreshCmd": "print(var_dic_list())"
    },
    "r": {
     "delete_cmd_postfix": ") ",
     "delete_cmd_prefix": "rm(",
     "library": "var_list.r",
     "varRefreshCmd": "cat(var_dic_list()) "
    }
   },
   "types_to_exclude": [
    "module",
    "function",
    "builtin_function_or_method",
    "instance",
    "_Feature"
   ],
   "window_display": false
  }
 },
 "nbformat": 4,
 "nbformat_minor": 5
}

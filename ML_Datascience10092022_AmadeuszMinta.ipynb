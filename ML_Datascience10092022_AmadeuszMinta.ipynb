{
 "cells": [
  {
   "cell_type": "markdown",
   "id": "f0469bd5",
   "metadata": {},
   "source": [
    "# Description of project\n",
    "\n",
    "Customer behavior and booking possibilities have been radically changed by online hotel reservation channels. Cancellations or no-shows cause a significant number of hotel reservations to be canceled. Cancellations can be caused by a variety of factors, such as scheduling conflicts, changes in plans, etc. In many cases, this is made easier by the possibility of doing so free or at a low cost, which is beneficial for hotel guests but less desirable and possibly revenue-diminishing for hotels.\n",
    "\n",
    "**The purpose of case study is:**\n",
    "\n",
    "As a Data Scientist, your job is to build a Machine Learning model to help the Hotel Owners better understand if the customer is going to honor the reservation or cancel it ?\n",
    "\n",
    "The dataset was downloaded from:\n",
    "[Kaggle - Playground Series - Season 3, Episode 7](https://www.kaggle.com/competitions/playground-series-s3e7/overview)\n",
    "\n",
    "Dataset was prepared into this [Jupyter-notebook](EDA_Datascience10092022_AmadeuszMinta.ipynb)"
   ]
  },
  {
   "cell_type": "markdown",
   "id": "768f29d4",
   "metadata": {},
   "source": [
    "# Machine learning"
   ]
  },
  {
   "cell_type": "markdown",
   "id": "d5611942",
   "metadata": {},
   "source": [
    "## Tools"
   ]
  },
  {
   "cell_type": "markdown",
   "id": "853a3fb5",
   "metadata": {},
   "source": [
    "### Libraries"
   ]
  },
  {
   "cell_type": "code",
   "execution_count": 12,
   "id": "634fdd4c",
   "metadata": {},
   "outputs": [],
   "source": [
    "# Importing needed libraries\n",
    "\n",
    "# data manipulation\n",
    "import pandas as pd\n",
    "import numpy as np\n",
    "import scipy.stats as ss\n",
    "import itertools\n",
    "\n",
    "# data visualization\n",
    "import seaborn as sns\n",
    "import matplotlib.pyplot as plt\n",
    "\n",
    "# pipeline construction\n",
    "from sklearn.pipeline import make_pipeline, Pipeline\n",
    "\n",
    "# models training\n",
    "from sklearn.model_selection import train_test_split, cross_validate, cross_val_score, GridSearchCV, RandomizedSearchCV\n",
    "from sklearn.linear_model import LogisticRegression\n",
    "from sklearn.naive_bayes import GaussianNB\n",
    "from sklearn.neighbors import KNeighborsClassifier\n",
    "from sklearn.svm import SVC\n",
    "from sklearn.tree import DecisionTreeClassifier\n",
    "from sklearn.ensemble import RandomForestClassifier\n",
    "from xgboost.sklearn import XGBClassifier\n",
    "\n",
    "# models validation\n",
    "from sklearn.metrics import accuracy_score, precision_score, recall_score, f1_score"
   ]
  },
  {
   "cell_type": "markdown",
   "id": "4d1a91fd",
   "metadata": {},
   "source": [
    "### Functions"
   ]
  },
  {
   "cell_type": "code",
   "execution_count": 55,
   "id": "5e47319e",
   "metadata": {},
   "outputs": [],
   "source": [
    "#This function allows to examine a group of classifiers with diverse parameters\n",
    "def train_model(algo, X_train, y_train, X_test, y_test, param_grid=None):\n",
    "    steps = [('model', algo)]\n",
    "    clf = Pipeline(steps=steps)\n",
    "    \n",
    "    if param_grid is None:\n",
    "        model = clf.fit(X_train, y_train)\n",
    "        b_params = 'Standard settings'\n",
    "    else:\n",
    "        clf = GridSearchCV(estimator=clf, \n",
    "                           param_grid=param_grid, \n",
    "                           cv=2) # In accordance with 2.3 subpoint, cross validation is not significant  \n",
    "        clf.fit(X_train, y_train)\n",
    "        model = clf.best_estimator_\n",
    "        b_params = clf.best_params_\n",
    "\n",
    "    score = model.score(X_test, y_test)\n",
    "    return model, score, b_params\n",
    "\n",
    "# This function displays all main results for classifier \n",
    "def all_metrics(name, best_estimator, X, y):\n",
    "    results = [name]\n",
    "    predictions = best_estimator.predict(X)\n",
    "    # metrics\n",
    "    results.append(accuracy_score(y, predictions)) # accuracy\n",
    "    results.append(recall_score(y, predictions)) # recall\n",
    "    results.append(precision_score(y, predictions)) # precision\n",
    "    results.append(f1_score(y, predictions)) # F1\n",
    "    \n",
    "    return format_results(results)\n",
    "\n",
    "\n",
    "def format_results(results):\n",
    "    print(f'{results[0]:>10s}: Accuracy {results[1]:.3f} | Recall {results[2]:.3f} | Precision {results[3]:.3f} | F1 {results[4]:.3f}')"
   ]
  },
  {
   "cell_type": "markdown",
   "id": "761e87c9",
   "metadata": {},
   "source": [
    "### Uploading dataset"
   ]
  },
  {
   "cell_type": "code",
   "execution_count": 3,
   "id": "e5a929f7",
   "metadata": {},
   "outputs": [
    {
     "name": "stdout",
     "output_type": "stream",
     "text": [
      "X: (36050, 51), y: (36050,)\n"
     ]
    }
   ],
   "source": [
    "X = pd.read_csv('X_ml.csv', sep=',')\n",
    "y = pd.read_csv('y_ml.csv', sep=',')\n",
    "y = y['booking_status']\n",
    "print(f'X: {X.shape}, y: {y.shape}')"
   ]
  },
  {
   "cell_type": "markdown",
   "id": "2f805080",
   "metadata": {},
   "source": [
    "### Split data into training and test set "
   ]
  },
  {
   "cell_type": "code",
   "execution_count": 4,
   "id": "9a275cd2",
   "metadata": {},
   "outputs": [
    {
     "name": "stdout",
     "output_type": "stream",
     "text": [
      "Train set:\n",
      "X_train = (28840, 51); y_train = (28840,)\n",
      "X_test = (7210, 51); y_test = (7210,)\n"
     ]
    }
   ],
   "source": [
    "X_train, X_test, y_train, y_test = train_test_split(X, y, test_size=0.2, random_state=42)\n",
    "print(f'Train set:\\nX_train = {X_train.shape}; y_train = {y_train.shape}\\nX_test = {X_test.shape}; y_test = {y_test.shape}')"
   ]
  },
  {
   "cell_type": "markdown",
   "id": "96389697",
   "metadata": {},
   "source": [
    "**Summary:**\n",
    "\n",
    "The dataset was divided by Pareto rule, ie. 80/20 percent"
   ]
  },
  {
   "cell_type": "markdown",
   "id": "495ef105",
   "metadata": {},
   "source": [
    "## Examining baseline models"
   ]
  },
  {
   "cell_type": "markdown",
   "id": "5cd3b677",
   "metadata": {},
   "source": [
    "### Logistic Regression with default settings - first classification"
   ]
  },
  {
   "cell_type": "code",
   "execution_count": 5,
   "id": "0fb45a99",
   "metadata": {},
   "outputs": [
    {
     "data": {
      "text/html": [
       "<style>#sk-container-id-1 {color: black;background-color: white;}#sk-container-id-1 pre{padding: 0;}#sk-container-id-1 div.sk-toggleable {background-color: white;}#sk-container-id-1 label.sk-toggleable__label {cursor: pointer;display: block;width: 100%;margin-bottom: 0;padding: 0.3em;box-sizing: border-box;text-align: center;}#sk-container-id-1 label.sk-toggleable__label-arrow:before {content: \"▸\";float: left;margin-right: 0.25em;color: #696969;}#sk-container-id-1 label.sk-toggleable__label-arrow:hover:before {color: black;}#sk-container-id-1 div.sk-estimator:hover label.sk-toggleable__label-arrow:before {color: black;}#sk-container-id-1 div.sk-toggleable__content {max-height: 0;max-width: 0;overflow: hidden;text-align: left;background-color: #f0f8ff;}#sk-container-id-1 div.sk-toggleable__content pre {margin: 0.2em;color: black;border-radius: 0.25em;background-color: #f0f8ff;}#sk-container-id-1 input.sk-toggleable__control:checked~div.sk-toggleable__content {max-height: 200px;max-width: 100%;overflow: auto;}#sk-container-id-1 input.sk-toggleable__control:checked~label.sk-toggleable__label-arrow:before {content: \"▾\";}#sk-container-id-1 div.sk-estimator input.sk-toggleable__control:checked~label.sk-toggleable__label {background-color: #d4ebff;}#sk-container-id-1 div.sk-label input.sk-toggleable__control:checked~label.sk-toggleable__label {background-color: #d4ebff;}#sk-container-id-1 input.sk-hidden--visually {border: 0;clip: rect(1px 1px 1px 1px);clip: rect(1px, 1px, 1px, 1px);height: 1px;margin: -1px;overflow: hidden;padding: 0;position: absolute;width: 1px;}#sk-container-id-1 div.sk-estimator {font-family: monospace;background-color: #f0f8ff;border: 1px dotted black;border-radius: 0.25em;box-sizing: border-box;margin-bottom: 0.5em;}#sk-container-id-1 div.sk-estimator:hover {background-color: #d4ebff;}#sk-container-id-1 div.sk-parallel-item::after {content: \"\";width: 100%;border-bottom: 1px solid gray;flex-grow: 1;}#sk-container-id-1 div.sk-label:hover label.sk-toggleable__label {background-color: #d4ebff;}#sk-container-id-1 div.sk-serial::before {content: \"\";position: absolute;border-left: 1px solid gray;box-sizing: border-box;top: 0;bottom: 0;left: 50%;z-index: 0;}#sk-container-id-1 div.sk-serial {display: flex;flex-direction: column;align-items: center;background-color: white;padding-right: 0.2em;padding-left: 0.2em;position: relative;}#sk-container-id-1 div.sk-item {position: relative;z-index: 1;}#sk-container-id-1 div.sk-parallel {display: flex;align-items: stretch;justify-content: center;background-color: white;position: relative;}#sk-container-id-1 div.sk-item::before, #sk-container-id-1 div.sk-parallel-item::before {content: \"\";position: absolute;border-left: 1px solid gray;box-sizing: border-box;top: 0;bottom: 0;left: 50%;z-index: -1;}#sk-container-id-1 div.sk-parallel-item {display: flex;flex-direction: column;z-index: 1;position: relative;background-color: white;}#sk-container-id-1 div.sk-parallel-item:first-child::after {align-self: flex-end;width: 50%;}#sk-container-id-1 div.sk-parallel-item:last-child::after {align-self: flex-start;width: 50%;}#sk-container-id-1 div.sk-parallel-item:only-child::after {width: 0;}#sk-container-id-1 div.sk-dashed-wrapped {border: 1px dashed gray;margin: 0 0.4em 0.5em 0.4em;box-sizing: border-box;padding-bottom: 0.4em;background-color: white;}#sk-container-id-1 div.sk-label label {font-family: monospace;font-weight: bold;display: inline-block;line-height: 1.2em;}#sk-container-id-1 div.sk-label-container {text-align: center;}#sk-container-id-1 div.sk-container {/* jupyter's `normalize.less` sets `[hidden] { display: none; }` but bootstrap.min.css set `[hidden] { display: none !important; }` so we also need the `!important` here to be able to override the default hidden behavior on the sphinx rendered scikit-learn.org. See: https://github.com/scikit-learn/scikit-learn/issues/21755 */display: inline-block !important;position: relative;}#sk-container-id-1 div.sk-text-repr-fallback {display: none;}</style><div id=\"sk-container-id-1\" class=\"sk-top-container\"><div class=\"sk-text-repr-fallback\"><pre>LogisticRegression()</pre><b>In a Jupyter environment, please rerun this cell to show the HTML representation or trust the notebook. <br />On GitHub, the HTML representation is unable to render, please try loading this page with nbviewer.org.</b></div><div class=\"sk-container\" hidden><div class=\"sk-item\"><div class=\"sk-estimator sk-toggleable\"><input class=\"sk-toggleable__control sk-hidden--visually\" id=\"sk-estimator-id-1\" type=\"checkbox\" checked><label for=\"sk-estimator-id-1\" class=\"sk-toggleable__label sk-toggleable__label-arrow\">LogisticRegression</label><div class=\"sk-toggleable__content\"><pre>LogisticRegression()</pre></div></div></div></div></div>"
      ],
      "text/plain": [
       "LogisticRegression()"
      ]
     },
     "execution_count": 5,
     "metadata": {},
     "output_type": "execute_result"
    }
   ],
   "source": [
    "lr = LogisticRegression()\n",
    "lr.fit(X_train, y_train)"
   ]
  },
  {
   "cell_type": "code",
   "execution_count": 6,
   "id": "3b726294",
   "metadata": {},
   "outputs": [
    {
     "data": {
      "text/plain": [
       "0.7740984743411928"
      ]
     },
     "execution_count": 6,
     "metadata": {},
     "output_type": "execute_result"
    }
   ],
   "source": [
    "lr.score(X_train, y_train)"
   ]
  },
  {
   "cell_type": "code",
   "execution_count": 7,
   "id": "cb5ba8d7",
   "metadata": {
    "scrolled": true
   },
   "outputs": [
    {
     "data": {
      "text/plain": [
       "0.7740638002773925"
      ]
     },
     "execution_count": 7,
     "metadata": {},
     "output_type": "execute_result"
    }
   ],
   "source": [
    "lr.score(X_test, y_test)"
   ]
  },
  {
   "cell_type": "markdown",
   "id": "4dabbc22",
   "metadata": {},
   "source": [
    "Results are quite close to each other. There is  not see underfitting or overfitting. It is correct."
   ]
  },
  {
   "cell_type": "markdown",
   "id": "161cf777",
   "metadata": {},
   "source": [
    "### Examination of the main classifiers and their evaluation "
   ]
  },
  {
   "cell_type": "code",
   "execution_count": 8,
   "id": "d9ddf950",
   "metadata": {},
   "outputs": [],
   "source": [
    "# Classifiers from the supervised classification family - supervised learning\n",
    "classifiers = {\n",
    "    'LogReg': LogisticRegression(), \n",
    "    'NB' : GaussianNB(),\n",
    "    'kNN' : KNeighborsClassifier(),\n",
    "    'SVC' : SVC(),\n",
    "    'Tree' : DecisionTreeClassifier()\n",
    "}"
   ]
  },
  {
   "cell_type": "markdown",
   "id": "1493e048",
   "metadata": {},
   "source": [
    "`Logistic Regression`, `Gaussian Naive Bayes`, `k-nearest neighbors vote` and `C-Support Vector Classification` require to use of a scaler. Because of the variables in my dataset is only binary. So I avoided using any scaler.  "
   ]
  },
  {
   "cell_type": "code",
   "execution_count": 9,
   "id": "3d8d901b",
   "metadata": {
    "scrolled": false
   },
   "outputs": [
    {
     "name": "stdout",
     "output_type": "stream",
     "text": [
      "LogReg: Accuracy 0.774 | Recall 0.726 | Precision 0.750 | F1 0.738\n",
      "    NB: Accuracy 0.660 | Recall 0.805 | Precision 0.580 | F1 0.674\n",
      "   kNN: Accuracy 0.734 | Recall 0.674 | Precision 0.704 | F1 0.689\n",
      "   SVC: Accuracy 0.783 | Recall 0.736 | Precision 0.761 | F1 0.748\n",
      "  Tree: Accuracy 0.723 | Recall 0.638 | Precision 0.701 | F1 0.668\n"
     ]
    }
   ],
   "source": [
    "for name, classifier in classifiers.items():\n",
    "    clf = classifier.fit(X_train, y_train)\n",
    "    predictions = clf.predict(X_test)\n",
    "    # metrics\n",
    "    accuracy = accuracy_score(y_test, predictions) # accuracy\n",
    "    recall = recall_score(y_test, predictions) # recall\n",
    "    precision = precision_score(y_test, predictions) # precision\n",
    "    f1 = f1_score(y_test, predictions) # F1\n",
    "    \n",
    "    print(f'{name:>6s}: Accuracy {accuracy:.3f} | Recall {recall:.3f} | Precision {precision:.3f} | F1 {f1:.3f}')"
   ]
  },
  {
   "cell_type": "markdown",
   "id": "7eb8b2e5",
   "metadata": {},
   "source": [
    "**Summary:**\n",
    "\n",
    "To better evaluate individual classifiers, additional metrics for evaluating classifiers were used, i.e. `recall`, `precision`, and `F1`. Despite these additional metrics, the main evaluation criterion will be `accuracy`\n",
    "\n",
    "The best results were obtained for two classifiers, i.e. `Logistic Regression` and `SVC`\n",
    "\n",
    "The best results were obtained for two classifiers, i.e. `Logistic Regression` and `SVC`. Although `SVC` results are slightly better the cost (machine learning time) is too high. Therefore, after the first tests, `Logistic Regression` is the best classifier considering the cost and the results obtained"
   ]
  },
  {
   "cell_type": "markdown",
   "id": "a4aae427",
   "metadata": {},
   "source": [
    "### Examining baseline models with cross validation "
   ]
  },
  {
   "cell_type": "code",
   "execution_count": 14,
   "id": "e4d915bb",
   "metadata": {},
   "outputs": [
    {
     "data": {
      "image/png": "[encoded data removed]",
      "text/plain": [
       "<Figure size 864x576 with 1 Axes>"
      ]
     },
     "metadata": {
      "needs_background": "light"
     },
     "output_type": "display_data"
    }
   ],
   "source": [
    "fig, ax = plt.subplots(figsize=(12,8))\n",
    "markers = itertools.cycle((',', '+', '.', 'o', '*')) \n",
    "for name, classifier in classifiers.items():\n",
    "    cv_scores = cross_val_score(classifier,\n",
    "                               X_train, y_train,\n",
    "                               cv=5,\n",
    "                               scoring='accuracy',\n",
    "                               n_jobs=-1 #using all cores \n",
    "                               )\n",
    "    \n",
    "    my_label = f'{name} ({cv_scores.mean():.3f})'\n",
    "    ax.plot(cv_scores, marker=next(markers), label=my_label)\n",
    "    ax.set_ylim(0.0, 1.1)\n",
    "    ax.set_xlabel('no_of_cross-validation')\n",
    "    ax.set_ylabel('accuracy')\n",
    "    ax.legend(ncol=3, loc='lower center')"
   ]
  },
  {
   "cell_type": "markdown",
   "id": "f5d5ad86",
   "metadata": {},
   "source": [
    "The results from `the cross-validation` allow us to conclude that the features are balanced and there should be no **overfitting** during classification.\n",
    "\n",
    "It can be assumed that the binary form of the features is the reason for this "
   ]
  },
  {
   "cell_type": "markdown",
   "id": "21206214",
   "metadata": {},
   "source": [
    "### GirdSearchCV - finding the best classifier"
   ]
  },
  {
   "cell_type": "markdown",
   "id": "f4584156",
   "metadata": {},
   "source": [
    "**Testing classifiers with different hyperparameter settings** \n",
    "\n",
    "Setting and selecting the best hyperparameters"
   ]
  },
  {
   "cell_type": "code",
   "execution_count": 32,
   "id": "ff41f31f",
   "metadata": {},
   "outputs": [],
   "source": [
    "algos = {\n",
    "    \"LogReg\": {\"algo\": LogisticRegression(solver='liblinear'), #  It applies automatic parameter selection (a.k.a L1 Regularization) and it’s recommended when you have high dimension dataset (recommended for solving large-scale classification problems)\n",
    "               \"params\": {\n",
    "                            \"model__C\": [0.1, 10, 100, 10000],\n",
    "                            \"model__fit_intercept\": (True, False)\n",
    "                         }\n",
    "              },\n",
    "    \"NB\": {\n",
    "            \"algo\": GaussianNB(), \n",
    "            \"params\": None\n",
    "          }, \n",
    "    \"kNN\": {\n",
    "            \"algo\": KNeighborsClassifier(), \n",
    "            \"params\": {\n",
    "                        \"model__n_neighbors\": [3, 5, 10], # number of neighbours to consider\n",
    "                        \"model__metric\": ['minkowski', 'cosine'], # how distance is measured\n",
    "                        \"model__p\": [1, 2] # in case distance is measured as minkowski, p=1 means Manhattan; p=2 means Euclidean\n",
    "                      } \n",
    "                        \n",
    "            }, \n",
    "    \"SVC\": {\"algo\": SVC(kernel='linear'), \n",
    "            \"params\": {\n",
    "                        \"model__C\": [0.1, 1, 10] \n",
    "#                         \"model__gamma\": [0.001, 1]\n",
    "                      }\n",
    "           }, \n",
    "    \"Tree\": {\"algo\": DecisionTreeClassifier(criterion='entropy'), \n",
    "             \"params\": {\n",
    "                        \"model__max_depth\": [3, 5, 7, 10], # if not specified, the nodes will be expanded until all leaf nodes are pure (have 0 cases of some class)\n",
    "                        \"model__min_samples_split\": [2, 5, 10, 15], # minimum samples required to split an internal node (number must be higher for split to happen)\n",
    "                       }\n",
    "            }\n",
    "}"
   ]
  },
  {
   "cell_type": "code",
   "execution_count": 33,
   "id": "bf9dcd25",
   "metadata": {
    "scrolled": true
   },
   "outputs": [
    {
     "name": "stdout",
     "output_type": "stream",
     "text": [
      "LogReg: Accuracy 0.773 || Best parameters {'model__C': 0.1, 'model__fit_intercept': True}\n",
      "    NB: Accuracy 0.660 || Best parameters Standard settings\n",
      "   kNN: Accuracy 0.736 || Best parameters {'model__metric': 'cosine', 'model__n_neighbors': 10, 'model__p': 1}\n",
      "   SVC: Accuracy 0.759 || Best parameters {'model__C': 0.1}\n",
      "  Tree: Accuracy 0.774 || Best parameters {'model__max_depth': 7, 'model__min_samples_split': 15}\n"
     ]
    }
   ],
   "source": [
    "result_dict = {}\n",
    "for key in algos.keys():\n",
    "    result = train_model(algos[key]['algo'], \n",
    "                         X_train, y_train, X_test, y_test, \n",
    "                         algos[key]['params'])\n",
    "    print(f'{key:>6s}: Accuracy {result[1]:.3f} || Best parameters {result[2]}')\n",
    "    result_dict[key] = {'best_estimator': result[0], 'score': result[1], 'best_params': result[2]}"
   ]
  },
  {
   "cell_type": "code",
   "execution_count": 34,
   "id": "225e9173",
   "metadata": {},
   "outputs": [
    {
     "name": "stdout",
     "output_type": "stream",
     "text": [
      "  Tree: 0.774\n",
      "{'model__max_depth': 7, 'model__min_samples_split': 15}\n"
     ]
    }
   ],
   "source": [
    "best_model = max(result_dict, key=lambda k: result_dict[k]['score'])\n",
    "print(f'{best_model:>6s}: {result_dict[best_model][\"score\"]:.3f}')\n",
    "print(f'{result_dict[best_model][\"best_params\"]}')"
   ]
  },
  {
   "cell_type": "markdown",
   "id": "c80cda59",
   "metadata": {},
   "source": [
    "**Summary:**\n",
    "\n",
    "When testing basic classifiers with different parameters, we found that `the decision tree` gave us the best results. However, it requires appropriate parameterization.\n",
    "\n",
    "I further believe that for the current data set, the best results and at low cost can be obtained for `Logistic Regression`. "
   ]
  },
  {
   "cell_type": "markdown",
   "id": "2a601d2a",
   "metadata": {},
   "source": [
    "## XGBoost - more advanced classifier"
   ]
  },
  {
   "cell_type": "markdown",
   "id": "6b37e19b",
   "metadata": {},
   "source": [
    "For research purposes, a more advanced classifier was used, i.e. XGBoost"
   ]
  },
  {
   "cell_type": "markdown",
   "id": "d1e3aced",
   "metadata": {},
   "source": [
    "### First using of XGBoost"
   ]
  },
  {
   "cell_type": "code",
   "execution_count": 35,
   "id": "f2c820e8",
   "metadata": {},
   "outputs": [
    {
     "data": {
      "text/html": [
       "<style>#sk-container-id-2 {color: black;background-color: white;}#sk-container-id-2 pre{padding: 0;}#sk-container-id-2 div.sk-toggleable {background-color: white;}#sk-container-id-2 label.sk-toggleable__label {cursor: pointer;display: block;width: 100%;margin-bottom: 0;padding: 0.3em;box-sizing: border-box;text-align: center;}#sk-container-id-2 label.sk-toggleable__label-arrow:before {content: \"▸\";float: left;margin-right: 0.25em;color: #696969;}#sk-container-id-2 label.sk-toggleable__label-arrow:hover:before {color: black;}#sk-container-id-2 div.sk-estimator:hover label.sk-toggleable__label-arrow:before {color: black;}#sk-container-id-2 div.sk-toggleable__content {max-height: 0;max-width: 0;overflow: hidden;text-align: left;background-color: #f0f8ff;}#sk-container-id-2 div.sk-toggleable__content pre {margin: 0.2em;color: black;border-radius: 0.25em;background-color: #f0f8ff;}#sk-container-id-2 input.sk-toggleable__control:checked~div.sk-toggleable__content {max-height: 200px;max-width: 100%;overflow: auto;}#sk-container-id-2 input.sk-toggleable__control:checked~label.sk-toggleable__label-arrow:before {content: \"▾\";}#sk-container-id-2 div.sk-estimator input.sk-toggleable__control:checked~label.sk-toggleable__label {background-color: #d4ebff;}#sk-container-id-2 div.sk-label input.sk-toggleable__control:checked~label.sk-toggleable__label {background-color: #d4ebff;}#sk-container-id-2 input.sk-hidden--visually {border: 0;clip: rect(1px 1px 1px 1px);clip: rect(1px, 1px, 1px, 1px);height: 1px;margin: -1px;overflow: hidden;padding: 0;position: absolute;width: 1px;}#sk-container-id-2 div.sk-estimator {font-family: monospace;background-color: #f0f8ff;border: 1px dotted black;border-radius: 0.25em;box-sizing: border-box;margin-bottom: 0.5em;}#sk-container-id-2 div.sk-estimator:hover {background-color: #d4ebff;}#sk-container-id-2 div.sk-parallel-item::after {content: \"\";width: 100%;border-bottom: 1px solid gray;flex-grow: 1;}#sk-container-id-2 div.sk-label:hover label.sk-toggleable__label {background-color: #d4ebff;}#sk-container-id-2 div.sk-serial::before {content: \"\";position: absolute;border-left: 1px solid gray;box-sizing: border-box;top: 0;bottom: 0;left: 50%;z-index: 0;}#sk-container-id-2 div.sk-serial {display: flex;flex-direction: column;align-items: center;background-color: white;padding-right: 0.2em;padding-left: 0.2em;position: relative;}#sk-container-id-2 div.sk-item {position: relative;z-index: 1;}#sk-container-id-2 div.sk-parallel {display: flex;align-items: stretch;justify-content: center;background-color: white;position: relative;}#sk-container-id-2 div.sk-item::before, #sk-container-id-2 div.sk-parallel-item::before {content: \"\";position: absolute;border-left: 1px solid gray;box-sizing: border-box;top: 0;bottom: 0;left: 50%;z-index: -1;}#sk-container-id-2 div.sk-parallel-item {display: flex;flex-direction: column;z-index: 1;position: relative;background-color: white;}#sk-container-id-2 div.sk-parallel-item:first-child::after {align-self: flex-end;width: 50%;}#sk-container-id-2 div.sk-parallel-item:last-child::after {align-self: flex-start;width: 50%;}#sk-container-id-2 div.sk-parallel-item:only-child::after {width: 0;}#sk-container-id-2 div.sk-dashed-wrapped {border: 1px dashed gray;margin: 0 0.4em 0.5em 0.4em;box-sizing: border-box;padding-bottom: 0.4em;background-color: white;}#sk-container-id-2 div.sk-label label {font-family: monospace;font-weight: bold;display: inline-block;line-height: 1.2em;}#sk-container-id-2 div.sk-label-container {text-align: center;}#sk-container-id-2 div.sk-container {/* jupyter's `normalize.less` sets `[hidden] { display: none; }` but bootstrap.min.css set `[hidden] { display: none !important; }` so we also need the `!important` here to be able to override the default hidden behavior on the sphinx rendered scikit-learn.org. See: https://github.com/scikit-learn/scikit-learn/issues/21755 */display: inline-block !important;position: relative;}#sk-container-id-2 div.sk-text-repr-fallback {display: none;}</style><div id=\"sk-container-id-2\" class=\"sk-top-container\"><div class=\"sk-text-repr-fallback\"><pre>XGBClassifier(base_score=None, booster=None, callbacks=None,\n",
       "              colsample_bylevel=None, colsample_bynode=None,\n",
       "              colsample_bytree=None, early_stopping_rounds=None,\n",
       "              enable_categorical=False, eval_metric=None, feature_types=None,\n",
       "              gamma=None, gpu_id=None, grow_policy=None, importance_type=None,\n",
       "              interaction_constraints=None, learning_rate=None, max_bin=None,\n",
       "              max_cat_threshold=None, max_cat_to_onehot=None,\n",
       "              max_delta_step=None, max_depth=None, max_leaves=None,\n",
       "              min_child_weight=None, missing=nan, monotone_constraints=None,\n",
       "              n_estimators=100, n_jobs=None, num_parallel_tree=None,\n",
       "              predictor=None, random_state=None, ...)</pre><b>In a Jupyter environment, please rerun this cell to show the HTML representation or trust the notebook. <br />On GitHub, the HTML representation is unable to render, please try loading this page with nbviewer.org.</b></div><div class=\"sk-container\" hidden><div class=\"sk-item\"><div class=\"sk-estimator sk-toggleable\"><input class=\"sk-toggleable__control sk-hidden--visually\" id=\"sk-estimator-id-2\" type=\"checkbox\" checked><label for=\"sk-estimator-id-2\" class=\"sk-toggleable__label sk-toggleable__label-arrow\">XGBClassifier</label><div class=\"sk-toggleable__content\"><pre>XGBClassifier(base_score=None, booster=None, callbacks=None,\n",
       "              colsample_bylevel=None, colsample_bynode=None,\n",
       "              colsample_bytree=None, early_stopping_rounds=None,\n",
       "              enable_categorical=False, eval_metric=None, feature_types=None,\n",
       "              gamma=None, gpu_id=None, grow_policy=None, importance_type=None,\n",
       "              interaction_constraints=None, learning_rate=None, max_bin=None,\n",
       "              max_cat_threshold=None, max_cat_to_onehot=None,\n",
       "              max_delta_step=None, max_depth=None, max_leaves=None,\n",
       "              min_child_weight=None, missing=nan, monotone_constraints=None,\n",
       "              n_estimators=100, n_jobs=None, num_parallel_tree=None,\n",
       "              predictor=None, random_state=None, ...)</pre></div></div></div></div></div>"
      ],
      "text/plain": [
       "XGBClassifier(base_score=None, booster=None, callbacks=None,\n",
       "              colsample_bylevel=None, colsample_bynode=None,\n",
       "              colsample_bytree=None, early_stopping_rounds=None,\n",
       "              enable_categorical=False, eval_metric=None, feature_types=None,\n",
       "              gamma=None, gpu_id=None, grow_policy=None, importance_type=None,\n",
       "              interaction_constraints=None, learning_rate=None, max_bin=None,\n",
       "              max_cat_threshold=None, max_cat_to_onehot=None,\n",
       "              max_delta_step=None, max_depth=None, max_leaves=None,\n",
       "              min_child_weight=None, missing=nan, monotone_constraints=None,\n",
       "              n_estimators=100, n_jobs=None, num_parallel_tree=None,\n",
       "              predictor=None, random_state=None, ...)"
      ]
     },
     "execution_count": 35,
     "metadata": {},
     "output_type": "execute_result"
    }
   ],
   "source": [
    "XGB = XGBClassifier()\n",
    "XGB.fit(X_train, y_train)"
   ]
  },
  {
   "cell_type": "code",
   "execution_count": 77,
   "id": "8fa08e17",
   "metadata": {
    "scrolled": true
   },
   "outputs": [
    {
     "name": "stdout",
     "output_type": "stream",
     "text": [
      " XGB_train: Accuracy 0.813 | Recall 0.761 | Precision 0.792 | F1 0.776\n",
      "  XGB_test: Accuracy 0.778 | Recall 0.728 | Precision 0.755 | F1 0.741\n"
     ]
    }
   ],
   "source": [
    "all_metrics('XGB_train', XGB, X_train, y_train)\n",
    "all_metrics('XGB_test', XGB, X_test, y_test)"
   ]
  },
  {
   "cell_type": "markdown",
   "id": "c3c7831f",
   "metadata": {},
   "source": [
    "**Summary:**\n",
    "\n",
    "Regardless of very small overfitting, these results are correct. \n",
    "\n",
    "The result of accuracy is similar to the result of `Logistic Regression`"
   ]
  },
  {
   "cell_type": "markdown",
   "id": "f116c6c5",
   "metadata": {},
   "source": [
    "### RandomizedSearchCV and XGBoost"
   ]
  },
  {
   "cell_type": "markdown",
   "id": "76e5774d",
   "metadata": {},
   "source": [
    "Because of many parameters of `XGBoost Classifier`, the best option is using `RandomizedSearchCV`\n",
    "\n",
    "In `XGBoost` classes, we found that finding the right parameters with standard methods (`GirdsearchCV`) can be very difficult and time-consuming. Therefore, in this case, `RandomizedSearchCV` was used "
   ]
  },
  {
   "cell_type": "code",
   "execution_count": 39,
   "id": "d8fbe8dc",
   "metadata": {
    "scrolled": true
   },
   "outputs": [
    {
     "data": {
      "text/html": [
       "<style>#sk-container-id-4 {color: black;background-color: white;}#sk-container-id-4 pre{padding: 0;}#sk-container-id-4 div.sk-toggleable {background-color: white;}#sk-container-id-4 label.sk-toggleable__label {cursor: pointer;display: block;width: 100%;margin-bottom: 0;padding: 0.3em;box-sizing: border-box;text-align: center;}#sk-container-id-4 label.sk-toggleable__label-arrow:before {content: \"▸\";float: left;margin-right: 0.25em;color: #696969;}#sk-container-id-4 label.sk-toggleable__label-arrow:hover:before {color: black;}#sk-container-id-4 div.sk-estimator:hover label.sk-toggleable__label-arrow:before {color: black;}#sk-container-id-4 div.sk-toggleable__content {max-height: 0;max-width: 0;overflow: hidden;text-align: left;background-color: #f0f8ff;}#sk-container-id-4 div.sk-toggleable__content pre {margin: 0.2em;color: black;border-radius: 0.25em;background-color: #f0f8ff;}#sk-container-id-4 input.sk-toggleable__control:checked~div.sk-toggleable__content {max-height: 200px;max-width: 100%;overflow: auto;}#sk-container-id-4 input.sk-toggleable__control:checked~label.sk-toggleable__label-arrow:before {content: \"▾\";}#sk-container-id-4 div.sk-estimator input.sk-toggleable__control:checked~label.sk-toggleable__label {background-color: #d4ebff;}#sk-container-id-4 div.sk-label input.sk-toggleable__control:checked~label.sk-toggleable__label {background-color: #d4ebff;}#sk-container-id-4 input.sk-hidden--visually {border: 0;clip: rect(1px 1px 1px 1px);clip: rect(1px, 1px, 1px, 1px);height: 1px;margin: -1px;overflow: hidden;padding: 0;position: absolute;width: 1px;}#sk-container-id-4 div.sk-estimator {font-family: monospace;background-color: #f0f8ff;border: 1px dotted black;border-radius: 0.25em;box-sizing: border-box;margin-bottom: 0.5em;}#sk-container-id-4 div.sk-estimator:hover {background-color: #d4ebff;}#sk-container-id-4 div.sk-parallel-item::after {content: \"\";width: 100%;border-bottom: 1px solid gray;flex-grow: 1;}#sk-container-id-4 div.sk-label:hover label.sk-toggleable__label {background-color: #d4ebff;}#sk-container-id-4 div.sk-serial::before {content: \"\";position: absolute;border-left: 1px solid gray;box-sizing: border-box;top: 0;bottom: 0;left: 50%;z-index: 0;}#sk-container-id-4 div.sk-serial {display: flex;flex-direction: column;align-items: center;background-color: white;padding-right: 0.2em;padding-left: 0.2em;position: relative;}#sk-container-id-4 div.sk-item {position: relative;z-index: 1;}#sk-container-id-4 div.sk-parallel {display: flex;align-items: stretch;justify-content: center;background-color: white;position: relative;}#sk-container-id-4 div.sk-item::before, #sk-container-id-4 div.sk-parallel-item::before {content: \"\";position: absolute;border-left: 1px solid gray;box-sizing: border-box;top: 0;bottom: 0;left: 50%;z-index: -1;}#sk-container-id-4 div.sk-parallel-item {display: flex;flex-direction: column;z-index: 1;position: relative;background-color: white;}#sk-container-id-4 div.sk-parallel-item:first-child::after {align-self: flex-end;width: 50%;}#sk-container-id-4 div.sk-parallel-item:last-child::after {align-self: flex-start;width: 50%;}#sk-container-id-4 div.sk-parallel-item:only-child::after {width: 0;}#sk-container-id-4 div.sk-dashed-wrapped {border: 1px dashed gray;margin: 0 0.4em 0.5em 0.4em;box-sizing: border-box;padding-bottom: 0.4em;background-color: white;}#sk-container-id-4 div.sk-label label {font-family: monospace;font-weight: bold;display: inline-block;line-height: 1.2em;}#sk-container-id-4 div.sk-label-container {text-align: center;}#sk-container-id-4 div.sk-container {/* jupyter's `normalize.less` sets `[hidden] { display: none; }` but bootstrap.min.css set `[hidden] { display: none !important; }` so we also need the `!important` here to be able to override the default hidden behavior on the sphinx rendered scikit-learn.org. See: https://github.com/scikit-learn/scikit-learn/issues/21755 */display: inline-block !important;position: relative;}#sk-container-id-4 div.sk-text-repr-fallback {display: none;}</style><div id=\"sk-container-id-4\" class=\"sk-top-container\"><div class=\"sk-text-repr-fallback\"><pre>RandomizedSearchCV(cv=2,\n",
       "                   estimator=XGBClassifier(base_score=None, booster=None,\n",
       "                                           callbacks=None,\n",
       "                                           colsample_bylevel=None,\n",
       "                                           colsample_bynode=None,\n",
       "                                           colsample_bytree=None,\n",
       "                                           early_stopping_rounds=None,\n",
       "                                           enable_categorical=False,\n",
       "                                           eval_metric=None, feature_types=None,\n",
       "                                           gamma=None, gpu_id=None,\n",
       "                                           grow_policy=None,\n",
       "                                           importance_type=None,\n",
       "                                           interaction_constraints=None,\n",
       "                                           learning_rate...\n",
       "                                        &#x27;min_child_weight&#x27;: &lt;scipy.stats._distn_infrastructure.rv_discrete_frozen object at 0x000001A2F9919C40&gt;,\n",
       "                                        &#x27;n_estimators&#x27;: &lt;scipy.stats._distn_infrastructure.rv_discrete_frozen object at 0x000001A2F905FD90&gt;,\n",
       "                                        &#x27;reg_alpha&#x27;: &lt;scipy.stats._distn_infrastructure.rv_continuous_frozen object at 0x000001A2F991B7F0&gt;,\n",
       "                                        &#x27;reg_lambda&#x27;: &lt;scipy.stats._distn_infrastructure.rv_continuous_frozen object at 0x000001A2F9919520&gt;})</pre><b>In a Jupyter environment, please rerun this cell to show the HTML representation or trust the notebook. <br />On GitHub, the HTML representation is unable to render, please try loading this page with nbviewer.org.</b></div><div class=\"sk-container\" hidden><div class=\"sk-item sk-dashed-wrapped\"><div class=\"sk-label-container\"><div class=\"sk-label sk-toggleable\"><input class=\"sk-toggleable__control sk-hidden--visually\" id=\"sk-estimator-id-6\" type=\"checkbox\" ><label for=\"sk-estimator-id-6\" class=\"sk-toggleable__label sk-toggleable__label-arrow\">RandomizedSearchCV</label><div class=\"sk-toggleable__content\"><pre>RandomizedSearchCV(cv=2,\n",
       "                   estimator=XGBClassifier(base_score=None, booster=None,\n",
       "                                           callbacks=None,\n",
       "                                           colsample_bylevel=None,\n",
       "                                           colsample_bynode=None,\n",
       "                                           colsample_bytree=None,\n",
       "                                           early_stopping_rounds=None,\n",
       "                                           enable_categorical=False,\n",
       "                                           eval_metric=None, feature_types=None,\n",
       "                                           gamma=None, gpu_id=None,\n",
       "                                           grow_policy=None,\n",
       "                                           importance_type=None,\n",
       "                                           interaction_constraints=None,\n",
       "                                           learning_rate...\n",
       "                                        &#x27;min_child_weight&#x27;: &lt;scipy.stats._distn_infrastructure.rv_discrete_frozen object at 0x000001A2F9919C40&gt;,\n",
       "                                        &#x27;n_estimators&#x27;: &lt;scipy.stats._distn_infrastructure.rv_discrete_frozen object at 0x000001A2F905FD90&gt;,\n",
       "                                        &#x27;reg_alpha&#x27;: &lt;scipy.stats._distn_infrastructure.rv_continuous_frozen object at 0x000001A2F991B7F0&gt;,\n",
       "                                        &#x27;reg_lambda&#x27;: &lt;scipy.stats._distn_infrastructure.rv_continuous_frozen object at 0x000001A2F9919520&gt;})</pre></div></div></div><div class=\"sk-parallel\"><div class=\"sk-parallel-item\"><div class=\"sk-item\"><div class=\"sk-label-container\"><div class=\"sk-label sk-toggleable\"><input class=\"sk-toggleable__control sk-hidden--visually\" id=\"sk-estimator-id-7\" type=\"checkbox\" ><label for=\"sk-estimator-id-7\" class=\"sk-toggleable__label sk-toggleable__label-arrow\">estimator: XGBClassifier</label><div class=\"sk-toggleable__content\"><pre>XGBClassifier(base_score=None, booster=None, callbacks=None,\n",
       "              colsample_bylevel=None, colsample_bynode=None,\n",
       "              colsample_bytree=None, early_stopping_rounds=None,\n",
       "              enable_categorical=False, eval_metric=None, feature_types=None,\n",
       "              gamma=None, gpu_id=None, grow_policy=None, importance_type=None,\n",
       "              interaction_constraints=None, learning_rate=None, max_bin=None,\n",
       "              max_cat_threshold=None, max_cat_to_onehot=None,\n",
       "              max_delta_step=None, max_depth=None, max_leaves=None,\n",
       "              min_child_weight=None, missing=nan, monotone_constraints=None,\n",
       "              n_estimators=100, n_jobs=None, num_parallel_tree=None,\n",
       "              predictor=None, random_state=None, ...)</pre></div></div></div><div class=\"sk-serial\"><div class=\"sk-item\"><div class=\"sk-estimator sk-toggleable\"><input class=\"sk-toggleable__control sk-hidden--visually\" id=\"sk-estimator-id-8\" type=\"checkbox\" ><label for=\"sk-estimator-id-8\" class=\"sk-toggleable__label sk-toggleable__label-arrow\">XGBClassifier</label><div class=\"sk-toggleable__content\"><pre>XGBClassifier(base_score=None, booster=None, callbacks=None,\n",
       "              colsample_bylevel=None, colsample_bynode=None,\n",
       "              colsample_bytree=None, early_stopping_rounds=None,\n",
       "              enable_categorical=False, eval_metric=None, feature_types=None,\n",
       "              gamma=None, gpu_id=None, grow_policy=None, importance_type=None,\n",
       "              interaction_constraints=None, learning_rate=None, max_bin=None,\n",
       "              max_cat_threshold=None, max_cat_to_onehot=None,\n",
       "              max_delta_step=None, max_depth=None, max_leaves=None,\n",
       "              min_child_weight=None, missing=nan, monotone_constraints=None,\n",
       "              n_estimators=100, n_jobs=None, num_parallel_tree=None,\n",
       "              predictor=None, random_state=None, ...)</pre></div></div></div></div></div></div></div></div></div></div>"
      ],
      "text/plain": [
       "RandomizedSearchCV(cv=2,\n",
       "                   estimator=XGBClassifier(base_score=None, booster=None,\n",
       "                                           callbacks=None,\n",
       "                                           colsample_bylevel=None,\n",
       "                                           colsample_bynode=None,\n",
       "                                           colsample_bytree=None,\n",
       "                                           early_stopping_rounds=None,\n",
       "                                           enable_categorical=False,\n",
       "                                           eval_metric=None, feature_types=None,\n",
       "                                           gamma=None, gpu_id=None,\n",
       "                                           grow_policy=None,\n",
       "                                           importance_type=None,\n",
       "                                           interaction_constraints=None,\n",
       "                                           learning_rate...\n",
       "                                        'min_child_weight': <scipy.stats._distn_infrastructure.rv_discrete_frozen object at 0x000001A2F9919C40>,\n",
       "                                        'n_estimators': <scipy.stats._distn_infrastructure.rv_discrete_frozen object at 0x000001A2F905FD90>,\n",
       "                                        'reg_alpha': <scipy.stats._distn_infrastructure.rv_continuous_frozen object at 0x000001A2F991B7F0>,\n",
       "                                        'reg_lambda': <scipy.stats._distn_infrastructure.rv_continuous_frozen object at 0x000001A2F9919520>})"
      ]
     },
     "execution_count": 39,
     "metadata": {},
     "output_type": "execute_result"
    }
   ],
   "source": [
    "params = {\n",
    "    'max_depth': ss.randint(3, 50),\n",
    "    'min_child_weight': ss.randint(3, 15),\n",
    "    'n_estimators': ss.randint(3, 30),\n",
    "    'learning_rate': ss.uniform(0.001, 4),\n",
    "    'gamma': ss.uniform(0.001, 10),\n",
    "    'reg_lambda': ss.uniform(0.001, 10),\n",
    "    'reg_alpha': ss.uniform(0.001, 10)\n",
    "    }\n",
    "rsCV = RandomizedSearchCV(param_distributions=params,\n",
    "                        estimator=XGB,\n",
    "                        n_iter=100,\n",
    "                        cv=2, # In accordance with 2.3 subpoint, cross validation is not significant  \n",
    "                        n_jobs=5)\n",
    "rsCV.fit(X_train, y_train)"
   ]
  },
  {
   "cell_type": "code",
   "execution_count": 40,
   "id": "05fc4c02",
   "metadata": {},
   "outputs": [
    {
     "data": {
      "text/plain": [
       "{'gamma': 2.3214768320656343,\n",
       " 'learning_rate': 0.5556558512282322,\n",
       " 'max_depth': 38,\n",
       " 'min_child_weight': 5,\n",
       " 'n_estimators': 26,\n",
       " 'reg_alpha': 7.583061388214502,\n",
       " 'reg_lambda': 4.429152829314591}"
      ]
     },
     "execution_count": 40,
     "metadata": {},
     "output_type": "execute_result"
    }
   ],
   "source": [
    "rsCV.best_params_"
   ]
  },
  {
   "cell_type": "code",
   "execution_count": 57,
   "id": "40627c5b",
   "metadata": {
    "scrolled": true
   },
   "outputs": [
    {
     "name": "stdout",
     "output_type": "stream",
     "text": [
      " XGB_train: Accuracy 0.791 | Recall 0.736 | Precision 0.764 | F1 0.750\n",
      "  XGB_test: Accuracy 0.781 | Recall 0.731 | Precision 0.759 | F1 0.745\n"
     ]
    }
   ],
   "source": [
    "all_metrics('XGB_train', rsCV.best_estimator_, X_train, y_train)\n",
    "all_metrics('XGB_test', rsCV.best_estimator_, X_test, y_test)"
   ]
  },
  {
   "cell_type": "markdown",
   "id": "77e064ab",
   "metadata": {},
   "source": [
    "**Summary:**\n",
    "\n",
    "The results are close to those with basic `XGBoost`. \n",
    "\n",
    "From my point of view, using `Logistic Regression` is the best classifier"
   ]
  },
  {
   "cell_type": "markdown",
   "id": "1fb39431",
   "metadata": {},
   "source": [
    "## Random Forest Classifier - the most important features "
   ]
  },
  {
   "cell_type": "markdown",
   "id": "e24c9bcc",
   "metadata": {},
   "source": [
    "`RandomForestClassifier` allows you to determine the most important features that the most matter during classification"
   ]
  },
  {
   "cell_type": "code",
   "execution_count": 59,
   "id": "bdc7c402",
   "metadata": {},
   "outputs": [
    {
     "data": {
      "text/html": [
       "<style>#sk-container-id-5 {color: black;background-color: white;}#sk-container-id-5 pre{padding: 0;}#sk-container-id-5 div.sk-toggleable {background-color: white;}#sk-container-id-5 label.sk-toggleable__label {cursor: pointer;display: block;width: 100%;margin-bottom: 0;padding: 0.3em;box-sizing: border-box;text-align: center;}#sk-container-id-5 label.sk-toggleable__label-arrow:before {content: \"▸\";float: left;margin-right: 0.25em;color: #696969;}#sk-container-id-5 label.sk-toggleable__label-arrow:hover:before {color: black;}#sk-container-id-5 div.sk-estimator:hover label.sk-toggleable__label-arrow:before {color: black;}#sk-container-id-5 div.sk-toggleable__content {max-height: 0;max-width: 0;overflow: hidden;text-align: left;background-color: #f0f8ff;}#sk-container-id-5 div.sk-toggleable__content pre {margin: 0.2em;color: black;border-radius: 0.25em;background-color: #f0f8ff;}#sk-container-id-5 input.sk-toggleable__control:checked~div.sk-toggleable__content {max-height: 200px;max-width: 100%;overflow: auto;}#sk-container-id-5 input.sk-toggleable__control:checked~label.sk-toggleable__label-arrow:before {content: \"▾\";}#sk-container-id-5 div.sk-estimator input.sk-toggleable__control:checked~label.sk-toggleable__label {background-color: #d4ebff;}#sk-container-id-5 div.sk-label input.sk-toggleable__control:checked~label.sk-toggleable__label {background-color: #d4ebff;}#sk-container-id-5 input.sk-hidden--visually {border: 0;clip: rect(1px 1px 1px 1px);clip: rect(1px, 1px, 1px, 1px);height: 1px;margin: -1px;overflow: hidden;padding: 0;position: absolute;width: 1px;}#sk-container-id-5 div.sk-estimator {font-family: monospace;background-color: #f0f8ff;border: 1px dotted black;border-radius: 0.25em;box-sizing: border-box;margin-bottom: 0.5em;}#sk-container-id-5 div.sk-estimator:hover {background-color: #d4ebff;}#sk-container-id-5 div.sk-parallel-item::after {content: \"\";width: 100%;border-bottom: 1px solid gray;flex-grow: 1;}#sk-container-id-5 div.sk-label:hover label.sk-toggleable__label {background-color: #d4ebff;}#sk-container-id-5 div.sk-serial::before {content: \"\";position: absolute;border-left: 1px solid gray;box-sizing: border-box;top: 0;bottom: 0;left: 50%;z-index: 0;}#sk-container-id-5 div.sk-serial {display: flex;flex-direction: column;align-items: center;background-color: white;padding-right: 0.2em;padding-left: 0.2em;position: relative;}#sk-container-id-5 div.sk-item {position: relative;z-index: 1;}#sk-container-id-5 div.sk-parallel {display: flex;align-items: stretch;justify-content: center;background-color: white;position: relative;}#sk-container-id-5 div.sk-item::before, #sk-container-id-5 div.sk-parallel-item::before {content: \"\";position: absolute;border-left: 1px solid gray;box-sizing: border-box;top: 0;bottom: 0;left: 50%;z-index: -1;}#sk-container-id-5 div.sk-parallel-item {display: flex;flex-direction: column;z-index: 1;position: relative;background-color: white;}#sk-container-id-5 div.sk-parallel-item:first-child::after {align-self: flex-end;width: 50%;}#sk-container-id-5 div.sk-parallel-item:last-child::after {align-self: flex-start;width: 50%;}#sk-container-id-5 div.sk-parallel-item:only-child::after {width: 0;}#sk-container-id-5 div.sk-dashed-wrapped {border: 1px dashed gray;margin: 0 0.4em 0.5em 0.4em;box-sizing: border-box;padding-bottom: 0.4em;background-color: white;}#sk-container-id-5 div.sk-label label {font-family: monospace;font-weight: bold;display: inline-block;line-height: 1.2em;}#sk-container-id-5 div.sk-label-container {text-align: center;}#sk-container-id-5 div.sk-container {/* jupyter's `normalize.less` sets `[hidden] { display: none; }` but bootstrap.min.css set `[hidden] { display: none !important; }` so we also need the `!important` here to be able to override the default hidden behavior on the sphinx rendered scikit-learn.org. See: https://github.com/scikit-learn/scikit-learn/issues/21755 */display: inline-block !important;position: relative;}#sk-container-id-5 div.sk-text-repr-fallback {display: none;}</style><div id=\"sk-container-id-5\" class=\"sk-top-container\"><div class=\"sk-text-repr-fallback\"><pre>RandomForestClassifier()</pre><b>In a Jupyter environment, please rerun this cell to show the HTML representation or trust the notebook. <br />On GitHub, the HTML representation is unable to render, please try loading this page with nbviewer.org.</b></div><div class=\"sk-container\" hidden><div class=\"sk-item\"><div class=\"sk-estimator sk-toggleable\"><input class=\"sk-toggleable__control sk-hidden--visually\" id=\"sk-estimator-id-9\" type=\"checkbox\" checked><label for=\"sk-estimator-id-9\" class=\"sk-toggleable__label sk-toggleable__label-arrow\">RandomForestClassifier</label><div class=\"sk-toggleable__content\"><pre>RandomForestClassifier()</pre></div></div></div></div></div>"
      ],
      "text/plain": [
       "RandomForestClassifier()"
      ]
     },
     "execution_count": 59,
     "metadata": {},
     "output_type": "execute_result"
    }
   ],
   "source": [
    "random_forest = RandomForestClassifier() # Examining with default settings\n",
    "random_forest.fit(X_train, y_train)"
   ]
  },
  {
   "cell_type": "code",
   "execution_count": 60,
   "id": "97e1aa7d",
   "metadata": {
    "scrolled": true
   },
   "outputs": [
    {
     "data": {
      "text/html": [
       "<div>\n",
       "<style scoped>\n",
       "    .dataframe tbody tr th:only-of-type {\n",
       "        vertical-align: middle;\n",
       "    }\n",
       "\n",
       "    .dataframe tbody tr th {\n",
       "        vertical-align: top;\n",
       "    }\n",
       "\n",
       "    .dataframe thead th {\n",
       "        text-align: right;\n",
       "    }\n",
       "</style>\n",
       "<table border=\"1\" class=\"dataframe\">\n",
       "  <thead>\n",
       "    <tr style=\"text-align: right;\">\n",
       "      <th></th>\n",
       "      <th>Features</th>\n",
       "      <th>Feature_importances</th>\n",
       "    </tr>\n",
       "  </thead>\n",
       "  <tbody>\n",
       "    <tr>\n",
       "      <th>2</th>\n",
       "      <td>no_of_special_requests</td>\n",
       "      <td>0.146195</td>\n",
       "    </tr>\n",
       "    <tr>\n",
       "      <th>42</th>\n",
       "      <td>market_segment_type_1</td>\n",
       "      <td>0.063713</td>\n",
       "    </tr>\n",
       "    <tr>\n",
       "      <th>19</th>\n",
       "      <td>lead_time_0</td>\n",
       "      <td>0.047411</td>\n",
       "    </tr>\n",
       "    <tr>\n",
       "      <th>41</th>\n",
       "      <td>market_segment_type_0</td>\n",
       "      <td>0.035963</td>\n",
       "    </tr>\n",
       "    <tr>\n",
       "      <th>23</th>\n",
       "      <td>lead_time_4</td>\n",
       "      <td>0.032990</td>\n",
       "    </tr>\n",
       "    <tr>\n",
       "      <th>1</th>\n",
       "      <td>type_of_meal_plan</td>\n",
       "      <td>0.031801</td>\n",
       "    </tr>\n",
       "    <tr>\n",
       "      <th>20</th>\n",
       "      <td>lead_time_1</td>\n",
       "      <td>0.028621</td>\n",
       "    </tr>\n",
       "    <tr>\n",
       "      <th>11</th>\n",
       "      <td>no_of_week_nights_2</td>\n",
       "      <td>0.027760</td>\n",
       "    </tr>\n",
       "    <tr>\n",
       "      <th>6</th>\n",
       "      <td>no_of_weekend_nights_0</td>\n",
       "      <td>0.027006</td>\n",
       "    </tr>\n",
       "    <tr>\n",
       "      <th>12</th>\n",
       "      <td>no_of_week_nights_3</td>\n",
       "      <td>0.026948</td>\n",
       "    </tr>\n",
       "    <tr>\n",
       "      <th>8</th>\n",
       "      <td>no_of_weekend_nights_2</td>\n",
       "      <td>0.026207</td>\n",
       "    </tr>\n",
       "    <tr>\n",
       "      <th>7</th>\n",
       "      <td>no_of_weekend_nights_1</td>\n",
       "      <td>0.026098</td>\n",
       "    </tr>\n",
       "    <tr>\n",
       "      <th>10</th>\n",
       "      <td>no_of_week_nights_1</td>\n",
       "      <td>0.025041</td>\n",
       "    </tr>\n",
       "    <tr>\n",
       "      <th>48</th>\n",
       "      <td>avg_price_per_room_2</td>\n",
       "      <td>0.023869</td>\n",
       "    </tr>\n",
       "    <tr>\n",
       "      <th>22</th>\n",
       "      <td>lead_time_3</td>\n",
       "      <td>0.020931</td>\n",
       "    </tr>\n",
       "    <tr>\n",
       "      <th>47</th>\n",
       "      <td>avg_price_per_room_1</td>\n",
       "      <td>0.020707</td>\n",
       "    </tr>\n",
       "    <tr>\n",
       "      <th>13</th>\n",
       "      <td>no_of_week_nights_4</td>\n",
       "      <td>0.019908</td>\n",
       "    </tr>\n",
       "    <tr>\n",
       "      <th>21</th>\n",
       "      <td>lead_time_2</td>\n",
       "      <td>0.019138</td>\n",
       "    </tr>\n",
       "    <tr>\n",
       "      <th>38</th>\n",
       "      <td>arrival_month_10</td>\n",
       "      <td>0.018144</td>\n",
       "    </tr>\n",
       "    <tr>\n",
       "      <th>0</th>\n",
       "      <td>no_of_children</td>\n",
       "      <td>0.018000</td>\n",
       "    </tr>\n",
       "    <tr>\n",
       "      <th>4</th>\n",
       "      <td>no_of_adults_2</td>\n",
       "      <td>0.017983</td>\n",
       "    </tr>\n",
       "    <tr>\n",
       "      <th>40</th>\n",
       "      <td>arrival_month_12</td>\n",
       "      <td>0.016837</td>\n",
       "    </tr>\n",
       "    <tr>\n",
       "      <th>36</th>\n",
       "      <td>arrival_month_8</td>\n",
       "      <td>0.016660</td>\n",
       "    </tr>\n",
       "    <tr>\n",
       "      <th>37</th>\n",
       "      <td>arrival_month_9</td>\n",
       "      <td>0.016339</td>\n",
       "    </tr>\n",
       "    <tr>\n",
       "      <th>15</th>\n",
       "      <td>room_type_reserved_0</td>\n",
       "      <td>0.016192</td>\n",
       "    </tr>\n",
       "    <tr>\n",
       "      <th>34</th>\n",
       "      <td>arrival_month_6</td>\n",
       "      <td>0.015972</td>\n",
       "    </tr>\n",
       "    <tr>\n",
       "      <th>33</th>\n",
       "      <td>arrival_month_5</td>\n",
       "      <td>0.015628</td>\n",
       "    </tr>\n",
       "    <tr>\n",
       "      <th>35</th>\n",
       "      <td>arrival_month_7</td>\n",
       "      <td>0.015453</td>\n",
       "    </tr>\n",
       "    <tr>\n",
       "      <th>3</th>\n",
       "      <td>no_of_adults_1</td>\n",
       "      <td>0.015421</td>\n",
       "    </tr>\n",
       "    <tr>\n",
       "      <th>24</th>\n",
       "      <td>lead_time_5</td>\n",
       "      <td>0.015167</td>\n",
       "    </tr>\n",
       "    <tr>\n",
       "      <th>14</th>\n",
       "      <td>no_of_week_nights_5</td>\n",
       "      <td>0.014962</td>\n",
       "    </tr>\n",
       "    <tr>\n",
       "      <th>32</th>\n",
       "      <td>arrival_month_4</td>\n",
       "      <td>0.013799</td>\n",
       "    </tr>\n",
       "    <tr>\n",
       "      <th>16</th>\n",
       "      <td>room_type_reserved_1</td>\n",
       "      <td>0.013622</td>\n",
       "    </tr>\n",
       "    <tr>\n",
       "      <th>25</th>\n",
       "      <td>lead_time_6</td>\n",
       "      <td>0.013459</td>\n",
       "    </tr>\n",
       "    <tr>\n",
       "      <th>9</th>\n",
       "      <td>no_of_week_nights_0</td>\n",
       "      <td>0.012868</td>\n",
       "    </tr>\n",
       "    <tr>\n",
       "      <th>39</th>\n",
       "      <td>arrival_month_11</td>\n",
       "      <td>0.011933</td>\n",
       "    </tr>\n",
       "    <tr>\n",
       "      <th>31</th>\n",
       "      <td>arrival_month_3</td>\n",
       "      <td>0.010822</td>\n",
       "    </tr>\n",
       "    <tr>\n",
       "      <th>5</th>\n",
       "      <td>no_of_adults_3</td>\n",
       "      <td>0.009385</td>\n",
       "    </tr>\n",
       "    <tr>\n",
       "      <th>29</th>\n",
       "      <td>arrival_month_1</td>\n",
       "      <td>0.006819</td>\n",
       "    </tr>\n",
       "    <tr>\n",
       "      <th>30</th>\n",
       "      <td>arrival_month_2</td>\n",
       "      <td>0.006718</td>\n",
       "    </tr>\n",
       "    <tr>\n",
       "      <th>49</th>\n",
       "      <td>avg_price_per_room_3</td>\n",
       "      <td>0.006580</td>\n",
       "    </tr>\n",
       "    <tr>\n",
       "      <th>18</th>\n",
       "      <td>room_type_reserved_3</td>\n",
       "      <td>0.006009</td>\n",
       "    </tr>\n",
       "    <tr>\n",
       "      <th>43</th>\n",
       "      <td>market_segment_type_2</td>\n",
       "      <td>0.005250</td>\n",
       "    </tr>\n",
       "    <tr>\n",
       "      <th>17</th>\n",
       "      <td>room_type_reserved_2</td>\n",
       "      <td>0.005243</td>\n",
       "    </tr>\n",
       "    <tr>\n",
       "      <th>26</th>\n",
       "      <td>lead_time_7</td>\n",
       "      <td>0.003972</td>\n",
       "    </tr>\n",
       "    <tr>\n",
       "      <th>28</th>\n",
       "      <td>lead_time_9</td>\n",
       "      <td>0.002700</td>\n",
       "    </tr>\n",
       "    <tr>\n",
       "      <th>50</th>\n",
       "      <td>avg_price_per_room_4</td>\n",
       "      <td>0.002312</td>\n",
       "    </tr>\n",
       "    <tr>\n",
       "      <th>46</th>\n",
       "      <td>avg_price_per_room_0</td>\n",
       "      <td>0.002220</td>\n",
       "    </tr>\n",
       "    <tr>\n",
       "      <th>27</th>\n",
       "      <td>lead_time_8</td>\n",
       "      <td>0.001662</td>\n",
       "    </tr>\n",
       "    <tr>\n",
       "      <th>45</th>\n",
       "      <td>market_segment_type_4</td>\n",
       "      <td>0.000972</td>\n",
       "    </tr>\n",
       "    <tr>\n",
       "      <th>44</th>\n",
       "      <td>market_segment_type_3</td>\n",
       "      <td>0.000593</td>\n",
       "    </tr>\n",
       "  </tbody>\n",
       "</table>\n",
       "</div>"
      ],
      "text/plain": [
       "                  Features  Feature_importances\n",
       "2   no_of_special_requests             0.146195\n",
       "42   market_segment_type_1             0.063713\n",
       "19             lead_time_0             0.047411\n",
       "41   market_segment_type_0             0.035963\n",
       "23             lead_time_4             0.032990\n",
       "1        type_of_meal_plan             0.031801\n",
       "20             lead_time_1             0.028621\n",
       "11     no_of_week_nights_2             0.027760\n",
       "6   no_of_weekend_nights_0             0.027006\n",
       "12     no_of_week_nights_3             0.026948\n",
       "8   no_of_weekend_nights_2             0.026207\n",
       "7   no_of_weekend_nights_1             0.026098\n",
       "10     no_of_week_nights_1             0.025041\n",
       "48    avg_price_per_room_2             0.023869\n",
       "22             lead_time_3             0.020931\n",
       "47    avg_price_per_room_1             0.020707\n",
       "13     no_of_week_nights_4             0.019908\n",
       "21             lead_time_2             0.019138\n",
       "38        arrival_month_10             0.018144\n",
       "0           no_of_children             0.018000\n",
       "4           no_of_adults_2             0.017983\n",
       "40        arrival_month_12             0.016837\n",
       "36         arrival_month_8             0.016660\n",
       "37         arrival_month_9             0.016339\n",
       "15    room_type_reserved_0             0.016192\n",
       "34         arrival_month_6             0.015972\n",
       "33         arrival_month_5             0.015628\n",
       "35         arrival_month_7             0.015453\n",
       "3           no_of_adults_1             0.015421\n",
       "24             lead_time_5             0.015167\n",
       "14     no_of_week_nights_5             0.014962\n",
       "32         arrival_month_4             0.013799\n",
       "16    room_type_reserved_1             0.013622\n",
       "25             lead_time_6             0.013459\n",
       "9      no_of_week_nights_0             0.012868\n",
       "39        arrival_month_11             0.011933\n",
       "31         arrival_month_3             0.010822\n",
       "5           no_of_adults_3             0.009385\n",
       "29         arrival_month_1             0.006819\n",
       "30         arrival_month_2             0.006718\n",
       "49    avg_price_per_room_3             0.006580\n",
       "18    room_type_reserved_3             0.006009\n",
       "43   market_segment_type_2             0.005250\n",
       "17    room_type_reserved_2             0.005243\n",
       "26             lead_time_7             0.003972\n",
       "28             lead_time_9             0.002700\n",
       "50    avg_price_per_room_4             0.002312\n",
       "46    avg_price_per_room_0             0.002220\n",
       "27             lead_time_8             0.001662\n",
       "45   market_segment_type_4             0.000972\n",
       "44   market_segment_type_3             0.000593"
      ]
     },
     "execution_count": 60,
     "metadata": {},
     "output_type": "execute_result"
    }
   ],
   "source": [
    "feature_imp = random_forest.feature_importances_\n",
    "df = pd.concat([pd.Series(random_forest.feature_names_in_), pd.Series(feature_imp)], axis=1)\n",
    "df.rename(columns={0: 'Features', 1: 'Feature_importances'}, inplace=True)\n",
    "df.sort_values(by=['Feature_importances'] , ascending=False)"
   ]
  },
  {
   "cell_type": "code",
   "execution_count": 75,
   "id": "d80c7397",
   "metadata": {},
   "outputs": [],
   "source": [
    "columns = [col for col in df[df['Feature_importances'] > 0.01]['Features']]"
   ]
  },
  {
   "cell_type": "markdown",
   "id": "f10b6f61",
   "metadata": {},
   "source": [
    "The `Feature_importances` parameter was tested for different values. The result obtained was always the same, i.e. the decomposition of variables did not yield noticeably better results "
   ]
  },
  {
   "cell_type": "code",
   "execution_count": 76,
   "id": "77440779",
   "metadata": {
    "scrolled": true
   },
   "outputs": [
    {
     "data": {
      "text/plain": [
       "['no_of_children',\n",
       " 'type_of_meal_plan',\n",
       " 'no_of_special_requests',\n",
       " 'no_of_adults_1',\n",
       " 'no_of_adults_2',\n",
       " 'no_of_weekend_nights_0',\n",
       " 'no_of_weekend_nights_1',\n",
       " 'no_of_weekend_nights_2',\n",
       " 'no_of_week_nights_0',\n",
       " 'no_of_week_nights_1',\n",
       " 'no_of_week_nights_2',\n",
       " 'no_of_week_nights_3',\n",
       " 'no_of_week_nights_4',\n",
       " 'no_of_week_nights_5',\n",
       " 'room_type_reserved_0',\n",
       " 'room_type_reserved_1',\n",
       " 'lead_time_0',\n",
       " 'lead_time_1',\n",
       " 'lead_time_2',\n",
       " 'lead_time_3',\n",
       " 'lead_time_4',\n",
       " 'lead_time_5',\n",
       " 'lead_time_6',\n",
       " 'arrival_month_3',\n",
       " 'arrival_month_4',\n",
       " 'arrival_month_5',\n",
       " 'arrival_month_6',\n",
       " 'arrival_month_7',\n",
       " 'arrival_month_8',\n",
       " 'arrival_month_9',\n",
       " 'arrival_month_10',\n",
       " 'arrival_month_11',\n",
       " 'arrival_month_12',\n",
       " 'market_segment_type_0',\n",
       " 'market_segment_type_1',\n",
       " 'avg_price_per_room_1',\n",
       " 'avg_price_per_room_2']"
      ]
     },
     "execution_count": 76,
     "metadata": {},
     "output_type": "execute_result"
    }
   ],
   "source": [
    "columns"
   ]
  },
  {
   "cell_type": "markdown",
   "id": "62da9419",
   "metadata": {},
   "source": [
    "Examining baseline models with default settings for classifiers from 2.2 subpoint but **limited features**"
   ]
  },
  {
   "cell_type": "code",
   "execution_count": 72,
   "id": "9e524579",
   "metadata": {},
   "outputs": [
    {
     "name": "stdout",
     "output_type": "stream",
     "text": [
      "LogReg: Accuracy 0.756 | Recall 0.691 | Precision 0.735 | F1 0.712\n",
      "    NB: Accuracy 0.689 | Recall 0.595 | Precision 0.660 | F1 0.626\n",
      "   kNN: Accuracy 0.725 | Recall 0.658 | Precision 0.696 | F1 0.676\n",
      "   SVC: Accuracy 0.764 | Recall 0.677 | Precision 0.757 | F1 0.715\n",
      "  Tree: Accuracy 0.755 | Recall 0.683 | Precision 0.738 | F1 0.710\n"
     ]
    }
   ],
   "source": [
    "for name, classifier in classifiers.items():\n",
    "    clf = classifier.fit(X_train[columns], y_train)\n",
    "    predictions = clf.predict(X_test[columns])\n",
    "    # metrics\n",
    "    accuracy = accuracy_score(y_test, predictions) # accuracy\n",
    "    recall = recall_score(y_test, predictions) # recall\n",
    "    precision = precision_score(y_test, predictions) # precision\n",
    "    f1 = f1_score(y_test, predictions) # F1\n",
    "    \n",
    "    print(f'{name:>6s}: Accuracy {accuracy:.3f} | Recall {recall:.3f} | Precision {precision:.3f} | F1 {f1:.3f}')"
   ]
  },
  {
   "cell_type": "markdown",
   "id": "e7f7539c",
   "metadata": {},
   "source": [
    "Previous results regarding to 2.2 subpoint with all features\n",
    "\n",
    "* **LogReg**: Accuracy `0.774` | Recall `0.726` | Precision `0.750` | F1 `0.738`\n",
    "* **NB**: Accuracy `0.660` | Recall `0.805` | Precision 0.580 | F1 `0.674`    \n",
    "* **kNN**: Accuracy `0.734` | Recall `0.674` | Precision 0.704 | F1 `0.689`  \n",
    "* **SVC**: Accuracy `0.783` | Recall `0.736` | Precision 0.761 | F1 `0.748`\n",
    "* **Tree**: Accuracy `0.723` | Recall `0.638` | Precision 0.701 | F1 `0.668`"
   ]
  },
  {
   "cell_type": "markdown",
   "id": "35cfd69c",
   "metadata": {},
   "source": [
    "**Summary:**\n",
    "\n",
    "This technique of reducing features did not improve the results of baseline models. \n",
    "\n",
    "A better result is only noticed for `Naive Bayes`. \n",
    "\n",
    "It can suppose that this method in this case is not essential. \n",
    "\n",
    "Because of these results, I resigned from using `PCA` (`Principal component analysis`)"
   ]
  },
  {
   "cell_type": "markdown",
   "id": "05a7f0fb",
   "metadata": {},
   "source": [
    "## Conclusion "
   ]
  },
  {
   "cell_type": "markdown",
   "id": "bf0b58a5",
   "metadata": {},
   "source": [
    "* The best results were obtained for `XGBoost`. However, taking into account its large number of parameters and its complexity, the best solution for the classification process in question (cancellation of hotel accommodation) is `Logistic Regression` from my point of view. \n",
    "* The `SVC` classifier also gives satisfactory results. Even with standard settings. Unfortunately, its cost is too high and makes the process of parameter adjustment difficult.\n",
    "* `Cross-validation` for the current data set does not have much impact on model's accuracy. Mainly, the choice of the right model affects the results. It is likely that further work on `hyperparameter` adjustment could yield better results.\n"
   ]
  }
 ],
 "metadata": {
  "kernelspec": {
   "display_name": "Python 3 (ipykernel)",
   "language": "python",
   "name": "python3"
  },
  "language_info": {
   "codemirror_mode": {
    "name": "ipython",
    "version": 3
   },
   "file_extension": ".py",
   "mimetype": "text/x-python",
   "name": "python",
   "nbconvert_exporter": "python",
   "pygments_lexer": "ipython3",
   "version": "3.9.12"
  },
  "toc": {
   "base_numbering": 1,
   "nav_menu": {},
   "number_sections": true,
   "sideBar": true,
   "skip_h1_title": true,
   "title_cell": "Table of Contents",
   "title_sidebar": "Contents",
   "toc_cell": false,
   "toc_position": {},
   "toc_section_display": true,
   "toc_window_display": true
  },
  "varInspector": {
   "cols": {
    "lenName": 16,
    "lenType": 16,
    "lenVar": 40
   },
   "kernels_config": {
    "python": {
     "delete_cmd_postfix": "",
     "delete_cmd_prefix": "del ",
     "library": "var_list.py",
     "varRefreshCmd": "print(var_dic_list())"
    },
    "r": {
     "delete_cmd_postfix": ") ",
     "delete_cmd_prefix": "rm(",
     "library": "var_list.r",
     "varRefreshCmd": "cat(var_dic_list()) "
    }
   },
   "types_to_exclude": [
    "module",
    "function",
    "builtin_function_or_method",
    "instance",
    "_Feature"
   ],
   "window_display": false
  }
 },
 "nbformat": 4,
 "nbformat_minor": 5
}
